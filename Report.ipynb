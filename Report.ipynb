{
 "cells": [
  {
   "cell_type": "markdown",
   "metadata": {},
   "source": [
    "# Gender Recognition"
   ]
  },
  {
   "cell_type": "code",
   "execution_count": null,
   "metadata": {},
   "outputs": [],
   "source": []
  },
  {
   "cell_type": "markdown",
   "metadata": {},
   "source": [
    "##### Prepared By: Emmanuel Cocom, Erika Estrada"
   ]
  },
  {
   "cell_type": "markdown",
   "metadata": {},
   "source": [
    "<h2>Table of Contents</h2>\n",
    "<ol>\n",
    "  <li>Problem Description </li>\n",
    "  <li>Data Description</li>\n",
    "      <ol style=\"list-style: none;\">\n",
    "          <li>2.1 Features</li>\n",
    "          <li>2.2 Label</li>\n",
    "      </ol>\n",
    "  <li>Tools, Algorithms, and methods OverView: Summary and Overview</li>\n",
    "      <ol style=\"list-style: none;\">\n",
    "          <li>3.1 Methods and Tools</li>\n",
    "          <li>3.2 Algorithms</li>\n",
    "          <li>3.1 Metrics</li>\n",
    "      </ol>\n",
    "  \n",
    "  <li>A Closer look at the data</li>\n",
    "  <li>The Code </li>\n",
    "  <ol style=\"list-style: none;\">\n",
    "  <li>5.1 Random Forest</li>\n",
    "    <ol style=\"list-style: none;\">\n",
    "        <li>5.1.1 Fast Run</li>\n",
    "        <li>5.1.2 Cross Validation</li>\n",
    "        <li>5.1.3 Feature Selection</li>\n",
    "        <li>5.1.4 PCA</li>\n",
    "    </ol>\n",
    "  <li>5.2 Decision Tree</li>\n",
    "    <ol style=\"list-style: none;\">\n",
    "        <li>5.2.1 Fast Run</li>\n",
    "        <li>5.2.2 Cross Validation</li>\n",
    "        <li>5.2.3 Feature Selection</li>\n",
    "        <li>5.2.4 PCA</li>\n",
    "    </ol>\n",
    "    \n",
    "  <li>5.3 Ada Boost</li>\n",
    "    <ol style=\"list-style: none;\">\n",
    "        <li>5.3.1 Fast Run</li>\n",
    "        <li>5.3.2 Cross Validation</li>\n",
    "        <li>5.3.3 Feature Selection</li>\n",
    "        <li>5.3.4 PCA</li>\n",
    "    </ol>\n",
    "  \n",
    "  <li>5.4 Support Vector Machine</li>\n",
    "    <ol style=\"list-style: none;\">\n",
    "        <li>5.4.1 Fast Run</li>\n",
    "        <li>5.4.2 Cross Validation</li>\n",
    "        <li>5.4.3 Feature Selection</li>\n",
    "        <li>5.4.4 PCA</li>\n",
    "    </ol>\n",
    "    \n",
    "    \n",
    "   \n",
    "  <li>5.5 KNN</li>\n",
    "  \n",
    "  \n",
    "  \n",
    "\n",
    "  <li>5.6 Logistic Regression</li>\n",
    "  \n",
    "  \n",
    "\n",
    "  <li>5.7 XGB Boost</li>\n",
    "  \n",
    "  \n",
    "  \n",
    "  <li>5.8 Artificial Neural Networks</li>\n",
    "      \n",
    "  </ol>\n",
    "  \n",
    "  \n",
    "<li>Conclusions  </li>\n",
    "      <ol style=\"list-style: none;\">\n",
    "          <li>6.1 Accuracy</li>\n",
    "          <li>6.2 Biases</li>\n",
    "          <li>6.3 Thoughts and Suggestions for future research</li>\n",
    "      </ol>\n",
    "      \n",
    "      \n",
    "      \n",
    "<li>Responsibilities  </li>\n",
    "          <ol style=\"list-style: none;\">\n",
    "          <li>7.1 Shared</li>\n",
    "          <li>7.2 Emmanuel </li>\n",
    "          <li>7.3 Erika</li>\n",
    "      </ol>\n",
    "    \n",
    "</ol>"
   ]
  },
  {
   "cell_type": "markdown",
   "metadata": {},
   "source": [
    "## 1. Problem Description"
   ]
  },
  {
   "cell_type": "markdown",
   "metadata": {},
   "source": [
    "Given 20,259 face images of various celebrities, 10,177 unique identities, 40 binary attributes, 5 landmark locations, determine the gender of any given sample."
   ]
  },
  {
   "cell_type": "markdown",
   "metadata": {},
   "source": [
    "## 2. Data Descriptioin"
   ]
  },
  {
   "cell_type": "markdown",
   "metadata": {},
   "source": [
    "### 2.1 Features"
   ]
  },
  {
   "cell_type": "markdown",
   "metadata": {},
   "source": [
    "###### 39 Facial Features"
   ]
  },
  {
   "cell_type": "markdown",
   "metadata": {},
   "source": [
    "<table style='margin-left:0px;width:80%;'>\n",
    "  <tr>\n",
    "    <th>Feature #</th>\n",
    "    <th>Feature</th>\n",
    "    <th>Confirms Absence</th>\n",
    "    <th>confirms Presence</th>\n",
    "  </tr>\n",
    "  <tr>\n",
    "      <td>1</td>\n",
    "    <td>5_o_Clock_Shadow' </td>\n",
    "    <td>-1</td>\n",
    "    <td>1</td>\n",
    "  </tr>\n",
    "    <tr>\n",
    "      <td>2</td>\n",
    "    <td>Arched_Eyebrows </td>\n",
    "    <td>-1</td>\n",
    "    <td>1</td>\n",
    "  </tr>\n",
    "      <tr>\n",
    "      <td>3</td>\n",
    "    <td>Attractive' </td>\n",
    "    <td>-1</td>\n",
    "    <td>1</td>\n",
    "  </tr>\n",
    "      <tr>\n",
    "      <td>4</td>\n",
    "    <td>Bags_Under_Eyes </td>\n",
    "    <td>-1</td>\n",
    "    <td>1</td>\n",
    "  </tr>\n",
    "  <tr>\n",
    "      <td>5</td>\n",
    "    <td>Bald </td>\n",
    "    <td>-1</td>\n",
    "    <td>1</td>\n",
    "  </tr>\n",
    "    \n",
    "  <tr>\n",
    "      <td>6</td>\n",
    "    <td>Bangs </td>\n",
    "    <td>-1</td>\n",
    "    <td>1</td>\n",
    "  </tr>\n",
    "  <tr>\n",
    "      <td>7</td>\n",
    "    <td>Big_Lips</td>\n",
    "    <td>-1</td>\n",
    "    <td>1</td>\n",
    "  </tr>\n",
    " \n",
    "  \n",
    "  \n",
    "  <tr>\n",
    "      <td>8</td>\n",
    "    <td>Big Nose </td>\n",
    "    <td>-1</td>\n",
    "    <td>1</td>\n",
    "  </tr>\n",
    "  <tr>\n",
    "      <td>9</td>\n",
    "    <td>Black_Hair </td>\n",
    "    <td>-1</td>\n",
    "    <td>1</td>\n",
    "  </tr>\n",
    "  <tr>\n",
    "      <td>10</td>\n",
    "    <td>Blond_Hair </td>\n",
    "    <td>-1</td>\n",
    "    <td>1</td>\n",
    "  </tr>\n",
    "      <tr>\n",
    "      <td>11</td>\n",
    "    <td>Blurry </td>\n",
    "    <td>-1</td>\n",
    "    <td>1</td>\n",
    "  </tr>\n",
    "      <tr>\n",
    "      <td>12</td>\n",
    "    <td>Brown_Hair </td>\n",
    "    <td>-1</td>\n",
    "    <td>1</td>\n",
    "  </tr>\n",
    "  <tr>\n",
    "      <td>13</td>\n",
    "    <td>Bushy_Eyebrows   </td>\n",
    "    <td>-1</td>\n",
    "    <td>1</td>\n",
    "  </tr>\n",
    "    \n",
    "  <tr>\n",
    "      <td>14</td>\n",
    "    <td>Chubby </td>\n",
    "    <td>-1</td>\n",
    "    <td>1</td>\n",
    "  </tr>\n",
    "  <tr>\n",
    "      <td>15</td>\n",
    "    <td>Double_Chin </td>\n",
    "    <td>-1</td>\n",
    "    <td>1</td>\n",
    "  </tr>\n",
    "  \n",
    "  <tr>\n",
    "      <td>16</td>\n",
    "    <td>Eyeglasses  </td>\n",
    "    <td>-1</td>\n",
    "    <td>1</td>\n",
    "  </tr>\n",
    "  \n",
    "  \n",
    "  \n",
    "<!-- 17 - 32 -->\n",
    " <tr>\n",
    "      <td>17</td>\n",
    "    <td>Goatee    </td>\n",
    "    <td>-1</td>\n",
    "    <td>1</td>\n",
    "  </tr>\n",
    "\n",
    " <tr>\n",
    "      <td>18</td>\n",
    "    <td>Gray_Hair  </td>\n",
    "    <td>-1</td>\n",
    "    <td>1</td>\n",
    "  </tr>\n",
    "    <tr>\n",
    "      <td>19</td>\n",
    "    <td>Heavy_Makeup  </td>\n",
    "    <td>-1</td>\n",
    "    <td>1</td>\n",
    "  </tr>\n",
    "      <tr>\n",
    "      <td>20</td>\n",
    "    <td>High_Cheekbones </td>\n",
    "    <td>-1</td>\n",
    "    <td>1</td>\n",
    "  </tr>\n",
    "      <tr>\n",
    "      <td>21</td>\n",
    "    <td>Mouth_Slightly_Open </td>\n",
    "    <td>-1</td>\n",
    "    <td>1</td>\n",
    "  </tr>\n",
    "  <tr>\n",
    "      <td>22</td>\n",
    "    <td>Mustache  </td>\n",
    "    <td>-1</td>\n",
    "    <td>1</td>\n",
    "  </tr>\n",
    "    \n",
    "\n",
    "  <tr>\n",
    "      <td>23</td>\n",
    "    <td>Narrow_Eyes </td>\n",
    "    <td>-1</td>\n",
    "    <td>1</td>\n",
    "  </tr>\n",
    "  \n",
    "  <tr>\n",
    "      <td>24</td>\n",
    "    <td>No_Beard  </td>\n",
    "    <td>-1</td>\n",
    "    <td>1</td>\n",
    "  </tr>\n",
    "  <tr>\n",
    "      <td>25</td>\n",
    "    <td>Oval_Face </td>\n",
    "    <td>-1</td>\n",
    "    <td>1</td>\n",
    "  </tr>\n",
    "  <tr>\n",
    "      <td>26</td>\n",
    "    <td>Pale_Skin </td>\n",
    "    <td>-1</td>\n",
    "    <td>1</td>\n",
    "  </tr>\n",
    "      <tr>\n",
    "      <td>27</td>\n",
    "    <td>Pointy_Nose </td>\n",
    "    <td>-1</td>\n",
    "    <td>1</td>\n",
    "  </tr>\n",
    "      <tr>\n",
    "      <td>28</td>\n",
    "    <td>Receding_Hairline </td>\n",
    "    <td>-1</td>\n",
    "    <td>1</td>\n",
    "  </tr>\n",
    "  <tr>\n",
    "      <td>29</td>\n",
    "    <td>Rosy_Cheeks  </td>\n",
    "    <td>-1</td>\n",
    "    <td>1</td>\n",
    "  </tr>\n",
    "    \n",
    "  <tr>\n",
    "      <td>30</td>\n",
    "    <td>Sideburns  </td>\n",
    "    <td>-1</td>\n",
    "    <td>1</td>\n",
    "  </tr>\n",
    "  <tr>\n",
    "      <td>31</td>\n",
    "    <td>Smiling  </td>\n",
    "    <td>-1</td>\n",
    "    <td>1</td>\n",
    "  </tr>\n",
    "  \n",
    "  <tr>\n",
    "      <td>32</td>\n",
    "    <td>Straight_Hair </td>\n",
    "    <td>-1</td>\n",
    "    <td>1</td>\n",
    "  </tr>\n",
    "       <tr>\n",
    "      <td>33</td>\n",
    "    <td>Wavy_Hair  </td>\n",
    "    <td>-1</td>\n",
    "    <td>1</td>\n",
    "  </tr>\n",
    "      <tr>\n",
    "      <td>34</td>\n",
    "    <td>Wearing_Earrings </td>\n",
    "    <td>-1</td>\n",
    "    <td>1</td>\n",
    "  </tr>\n",
    "      <tr>\n",
    "      <td>35</td>\n",
    "    <td>Wearing_Hat  </td>\n",
    "    <td>-1</td>\n",
    "    <td>1</td>\n",
    "  </tr>\n",
    "  <tr>\n",
    "      <td>36</td>\n",
    "    <td>Wearing_Lipstick </td>\n",
    "    <td>-1</td>\n",
    "    <td>1</td>\n",
    "  </tr>\n",
    "    \n",
    "  <tr>\n",
    "      <td>37</td>\n",
    "    <td>Wearing_Necklace  </td>\n",
    "    <td>-1</td>\n",
    "    <td>1</td>\n",
    "  </tr>\n",
    "  <tr>\n",
    "      <td>38</td>\n",
    "    <td>Wearing_Necktie </td>\n",
    "    <td>-1</td>\n",
    "    <td>1</td>\n",
    "  </tr>\n",
    "  \n",
    "  <tr>\n",
    "      <td>39</td>\n",
    "    <td>Young  </td>\n",
    "    <td>-1</td>\n",
    "    <td>1</td>\n",
    "  </tr>     \n",
    "    \n",
    "    \n",
    "    \n",
    "    \n",
    "    \n",
    "</table>"
   ]
  },
  {
   "cell_type": "markdown",
   "metadata": {},
   "source": [
    "### 2.2 Label"
   ]
  },
  {
   "cell_type": "markdown",
   "metadata": {},
   "source": [
    "##### 1 Label"
   ]
  },
  {
   "cell_type": "markdown",
   "metadata": {},
   "source": [
    "<table style='margin-left:0px;width:80%;'>\n",
    "  <tr>\n",
    "    <th>Label #</th>\n",
    "    <th>Label</th>\n",
    "    <th>Confirms Absence</th>\n",
    "    <th>Confirms Presence</th>\n",
    "  </tr>\n",
    "  <tr>\n",
    "    <td>1</td>\n",
    "    <td>Male </td>\n",
    "    <td>-1</td>\n",
    "    <td>1</td>\n",
    "  </tr>\n",
    "</table>"
   ]
  },
  {
   "cell_type": "markdown",
   "metadata": {},
   "source": [
    "## 3. Methods, Tools, Algorithms, & Metrics: Summary and Overview"
   ]
  },
  {
   "cell_type": "markdown",
   "metadata": {},
   "source": [
    "### 3.1 Methods & Tools"
   ]
  },
  {
   "cell_type": "markdown",
   "metadata": {},
   "source": [
    "<ol>\n",
    "  <li>Checking for Missing and Invalid data</li>\n",
    "  <li>Cross Validation</li>\n",
    "  <li>Feature Selection</li>\n",
    "  <li>Dimensional Reduction PCA</li>\n",
    "</ol> "
   ]
  },
  {
   "cell_type": "markdown",
   "metadata": {},
   "source": [
    "### 3.3 Algorithms"
   ]
  },
  {
   "cell_type": "markdown",
   "metadata": {},
   "source": [
    "<ol>\n",
    "  <li>KNN</li>\n",
    "  <li>Random Forest</li>\n",
    "  <li>Artifical Neural Networks</li>\n",
    "  <li>Logistic Regression</li>\n",
    "  <li>Decision Tree</li>\n",
    "  <li>ADA Boost</li>\n",
    "  <li>XGB Boost</li>\n",
    "  <li>Support Vector Machine</li>\n",
    "    \n",
    "</ol> "
   ]
  },
  {
   "cell_type": "markdown",
   "metadata": {},
   "source": [
    "# 3.4 Metrics"
   ]
  },
  {
   "cell_type": "markdown",
   "metadata": {},
   "source": [
    "<ol>\n",
    "  <li>Accuracy</li>\n",
    "  <li>Confusion Matrix</li>\n",
    "  <li>ROC Curve</li>\n",
    "</ol> "
   ]
  },
  {
   "cell_type": "markdown",
   "metadata": {},
   "source": [
    "## 4. A closer look at the data"
   ]
  },
  {
   "cell_type": "markdown",
   "metadata": {},
   "source": [
    "##### First we import all necessary libraries"
   ]
  },
  {
   "cell_type": "code",
   "execution_count": 1,
   "metadata": {},
   "outputs": [],
   "source": [
    "import pandas as pd\n",
    "import numpy as np\n",
    "\n",
    "#Import algorithms\n",
    "from sklearn.ensemble import RandomForestClassifier\n",
    "from sklearn.tree import DecisionTreeClassifier\n",
    "from sklearn.ensemble import AdaBoostClassifier\n",
    "from sklearn.svm import SVC\n",
    "\n",
    "#import split, cv, and metrics for accuracy\n",
    "from sklearn.model_selection import train_test_split\n",
    "from sklearn.metrics import accuracy_score\n",
    "from sklearn.model_selection import cross_val_score\n",
    "from sklearn import metrics\n",
    "\n",
    "\n",
    "#Regularization\n",
    "from sklearn.model_selection import StratifiedKFold\n",
    "from sklearn.feature_selection import RFECV\n",
    "from sklearn.svm import SVR\n",
    "\n",
    "#Plot curves\n",
    "import matplotlib.pyplot as plt\n",
    "\n",
    "# univerate testing\n",
    "from sklearn.feature_selection import SelectKBest\n",
    "from sklearn.feature_selection import chi2"
   ]
  },
  {
   "cell_type": "markdown",
   "metadata": {},
   "source": [
    "##### We look at the raw data. "
   ]
  },
  {
   "cell_type": "code",
   "execution_count": 2,
   "metadata": {},
   "outputs": [
    {
     "data": {
      "text/plain": [
       "(20259, 42)"
      ]
     },
     "execution_count": 2,
     "metadata": {},
     "output_type": "execute_result"
    }
   ],
   "source": [
    "df_face_recog = pd.read_csv('list_attr_celeba_sample.csv')\n",
    "df_face_recog.shape"
   ]
  },
  {
   "cell_type": "markdown",
   "metadata": {},
   "source": [
    "##### We take a look at a sample of the data entries."
   ]
  },
  {
   "cell_type": "code",
   "execution_count": 3,
   "metadata": {},
   "outputs": [
    {
     "data": {
      "text/html": [
       "<div>\n",
       "<style scoped>\n",
       "    .dataframe tbody tr th:only-of-type {\n",
       "        vertical-align: middle;\n",
       "    }\n",
       "\n",
       "    .dataframe tbody tr th {\n",
       "        vertical-align: top;\n",
       "    }\n",
       "\n",
       "    .dataframe thead th {\n",
       "        text-align: right;\n",
       "    }\n",
       "</style>\n",
       "<table border=\"1\" class=\"dataframe\">\n",
       "  <thead>\n",
       "    <tr style=\"text-align: right;\">\n",
       "      <th></th>\n",
       "      <th>Unnamed: 0</th>\n",
       "      <th>image_id</th>\n",
       "      <th>5_o_Clock_Shadow</th>\n",
       "      <th>Arched_Eyebrows</th>\n",
       "      <th>Attractive</th>\n",
       "      <th>Bags_Under_Eyes</th>\n",
       "      <th>Bald</th>\n",
       "      <th>Bangs</th>\n",
       "      <th>Big_Lips</th>\n",
       "      <th>Big_Nose</th>\n",
       "      <th>...</th>\n",
       "      <th>Sideburns</th>\n",
       "      <th>Smiling</th>\n",
       "      <th>Straight_Hair</th>\n",
       "      <th>Wavy_Hair</th>\n",
       "      <th>Wearing_Earrings</th>\n",
       "      <th>Wearing_Hat</th>\n",
       "      <th>Wearing_Lipstick</th>\n",
       "      <th>Wearing_Necklace</th>\n",
       "      <th>Wearing_Necktie</th>\n",
       "      <th>Young</th>\n",
       "    </tr>\n",
       "  </thead>\n",
       "  <tbody>\n",
       "    <tr>\n",
       "      <th>0</th>\n",
       "      <td>50733</td>\n",
       "      <td>050734.jpg</td>\n",
       "      <td>-1</td>\n",
       "      <td>-1</td>\n",
       "      <td>1</td>\n",
       "      <td>-1</td>\n",
       "      <td>-1</td>\n",
       "      <td>1</td>\n",
       "      <td>1</td>\n",
       "      <td>-1</td>\n",
       "      <td>...</td>\n",
       "      <td>-1</td>\n",
       "      <td>1</td>\n",
       "      <td>-1</td>\n",
       "      <td>1</td>\n",
       "      <td>-1</td>\n",
       "      <td>-1</td>\n",
       "      <td>-1</td>\n",
       "      <td>-1</td>\n",
       "      <td>-1</td>\n",
       "      <td>1</td>\n",
       "    </tr>\n",
       "    <tr>\n",
       "      <th>1</th>\n",
       "      <td>88879</td>\n",
       "      <td>088880.jpg</td>\n",
       "      <td>-1</td>\n",
       "      <td>-1</td>\n",
       "      <td>1</td>\n",
       "      <td>-1</td>\n",
       "      <td>-1</td>\n",
       "      <td>-1</td>\n",
       "      <td>-1</td>\n",
       "      <td>-1</td>\n",
       "      <td>...</td>\n",
       "      <td>-1</td>\n",
       "      <td>1</td>\n",
       "      <td>-1</td>\n",
       "      <td>1</td>\n",
       "      <td>1</td>\n",
       "      <td>-1</td>\n",
       "      <td>1</td>\n",
       "      <td>-1</td>\n",
       "      <td>-1</td>\n",
       "      <td>1</td>\n",
       "    </tr>\n",
       "    <tr>\n",
       "      <th>2</th>\n",
       "      <td>137280</td>\n",
       "      <td>137281.jpg</td>\n",
       "      <td>-1</td>\n",
       "      <td>-1</td>\n",
       "      <td>-1</td>\n",
       "      <td>1</td>\n",
       "      <td>-1</td>\n",
       "      <td>-1</td>\n",
       "      <td>-1</td>\n",
       "      <td>1</td>\n",
       "      <td>...</td>\n",
       "      <td>-1</td>\n",
       "      <td>1</td>\n",
       "      <td>-1</td>\n",
       "      <td>-1</td>\n",
       "      <td>1</td>\n",
       "      <td>-1</td>\n",
       "      <td>1</td>\n",
       "      <td>-1</td>\n",
       "      <td>-1</td>\n",
       "      <td>-1</td>\n",
       "    </tr>\n",
       "    <tr>\n",
       "      <th>3</th>\n",
       "      <td>119289</td>\n",
       "      <td>119290.jpg</td>\n",
       "      <td>-1</td>\n",
       "      <td>-1</td>\n",
       "      <td>1</td>\n",
       "      <td>-1</td>\n",
       "      <td>-1</td>\n",
       "      <td>1</td>\n",
       "      <td>-1</td>\n",
       "      <td>-1</td>\n",
       "      <td>...</td>\n",
       "      <td>-1</td>\n",
       "      <td>-1</td>\n",
       "      <td>-1</td>\n",
       "      <td>-1</td>\n",
       "      <td>-1</td>\n",
       "      <td>-1</td>\n",
       "      <td>-1</td>\n",
       "      <td>-1</td>\n",
       "      <td>-1</td>\n",
       "      <td>1</td>\n",
       "    </tr>\n",
       "    <tr>\n",
       "      <th>4</th>\n",
       "      <td>28943</td>\n",
       "      <td>028944.jpg</td>\n",
       "      <td>1</td>\n",
       "      <td>-1</td>\n",
       "      <td>1</td>\n",
       "      <td>-1</td>\n",
       "      <td>-1</td>\n",
       "      <td>-1</td>\n",
       "      <td>-1</td>\n",
       "      <td>-1</td>\n",
       "      <td>...</td>\n",
       "      <td>-1</td>\n",
       "      <td>-1</td>\n",
       "      <td>-1</td>\n",
       "      <td>-1</td>\n",
       "      <td>-1</td>\n",
       "      <td>-1</td>\n",
       "      <td>-1</td>\n",
       "      <td>-1</td>\n",
       "      <td>-1</td>\n",
       "      <td>1</td>\n",
       "    </tr>\n",
       "  </tbody>\n",
       "</table>\n",
       "<p>5 rows × 42 columns</p>\n",
       "</div>"
      ],
      "text/plain": [
       "   Unnamed: 0    image_id  5_o_Clock_Shadow  Arched_Eyebrows  Attractive  \\\n",
       "0       50733  050734.jpg                -1               -1           1   \n",
       "1       88879  088880.jpg                -1               -1           1   \n",
       "2      137280  137281.jpg                -1               -1          -1   \n",
       "3      119289  119290.jpg                -1               -1           1   \n",
       "4       28943  028944.jpg                 1               -1           1   \n",
       "\n",
       "   Bags_Under_Eyes  Bald  Bangs  Big_Lips  Big_Nose  ...  Sideburns  Smiling  \\\n",
       "0               -1    -1      1         1        -1  ...         -1        1   \n",
       "1               -1    -1     -1        -1        -1  ...         -1        1   \n",
       "2                1    -1     -1        -1         1  ...         -1        1   \n",
       "3               -1    -1      1        -1        -1  ...         -1       -1   \n",
       "4               -1    -1     -1        -1        -1  ...         -1       -1   \n",
       "\n",
       "   Straight_Hair  Wavy_Hair  Wearing_Earrings  Wearing_Hat  Wearing_Lipstick  \\\n",
       "0             -1          1                -1           -1                -1   \n",
       "1             -1          1                 1           -1                 1   \n",
       "2             -1         -1                 1           -1                 1   \n",
       "3             -1         -1                -1           -1                -1   \n",
       "4             -1         -1                -1           -1                -1   \n",
       "\n",
       "   Wearing_Necklace  Wearing_Necktie  Young  \n",
       "0                -1               -1      1  \n",
       "1                -1               -1      1  \n",
       "2                -1               -1     -1  \n",
       "3                -1               -1      1  \n",
       "4                -1               -1      1  \n",
       "\n",
       "[5 rows x 42 columns]"
      ]
     },
     "execution_count": 3,
     "metadata": {},
     "output_type": "execute_result"
    }
   ],
   "source": [
    "df_face_recog.head()"
   ]
  },
  {
   "cell_type": "markdown",
   "metadata": {},
   "source": [
    "###### We suspect all our data is binary. However, there are still a couple of questions in mind<br>\n",
    "\n",
    "<ol>\n",
    "<li><i>Are there any non-binary entries in our data set?</i></li>\n",
    "<li><i>Is there any missing data (null or blank entries)?</i></li>\n",
    "<li><i>Are there any entries that simply are impossible( i.e. negative time ) ?</i></li>\n",
    "<li><i>What is the exact data type of our entries? </i></li>\n",
    "<ol>"
   ]
  },
  {
   "cell_type": "markdown",
   "metadata": {},
   "source": [
    "##### To Answer these questions, we look at unique values entered for each column and the data type of each column"
   ]
  },
  {
   "cell_type": "code",
   "execution_count": 4,
   "metadata": {},
   "outputs": [
    {
     "name": "stdout",
     "output_type": "stream",
     "text": [
      "\n",
      "Feature  Unnamed: 0   [ 50733  88879 137280 ... 130868 141135 179540]  \n",
      " <class 'numpy.int64'>\n",
      "\n",
      "Feature  image_id   ['050734.jpg' '088880.jpg' '137281.jpg' ... '130869.jpg' '141136.jpg'\n",
      " '179541.jpg']  \n",
      " <class 'str'>\n",
      "\n",
      "Feature  5_o_Clock_Shadow   [-1  1]  \n",
      " <class 'numpy.int64'>\n",
      "\n",
      "Feature  Arched_Eyebrows   [-1  1]  \n",
      " <class 'numpy.int64'>\n",
      "\n",
      "Feature  Attractive   [ 1 -1]  \n",
      " <class 'numpy.int64'>\n",
      "\n",
      "Feature  Bags_Under_Eyes   [-1  1]  \n",
      " <class 'numpy.int64'>\n",
      "\n",
      "Feature  Bald   [-1  1]  \n",
      " <class 'numpy.int64'>\n",
      "\n",
      "Feature  Bangs   [ 1 -1]  \n",
      " <class 'numpy.int64'>\n",
      "\n",
      "Feature  Big_Lips   [ 1 -1]  \n",
      " <class 'numpy.int64'>\n",
      "\n",
      "Feature  Big_Nose   [-1  1]  \n",
      " <class 'numpy.int64'>\n",
      "\n",
      "Feature  Black_Hair   [-1  1]  \n",
      " <class 'numpy.int64'>\n",
      "\n",
      "Feature  Blond_Hair   [-1  1]  \n",
      " <class 'numpy.int64'>\n",
      "\n",
      "Feature  Blurry   [-1  1]  \n",
      " <class 'numpy.int64'>\n",
      "\n",
      "Feature  Brown_Hair   [-1  1]  \n",
      " <class 'numpy.int64'>\n",
      "\n",
      "Feature  Bushy_Eyebrows   [ 1 -1]  \n",
      " <class 'numpy.int64'>\n",
      "\n",
      "Feature  Chubby   [-1  1]  \n",
      " <class 'numpy.int64'>\n",
      "\n",
      "Feature  Double_Chin   [-1  1]  \n",
      " <class 'numpy.int64'>\n",
      "\n",
      "Feature  Eyeglasses   [-1  1]  \n",
      " <class 'numpy.int64'>\n",
      "\n",
      "Feature  Goatee   [-1  1]  \n",
      " <class 'numpy.int64'>\n",
      "\n",
      "Feature  Gray_Hair   [-1  1]  \n",
      " <class 'numpy.int64'>\n",
      "\n",
      "Feature  Heavy_Makeup   [-1  1]  \n",
      " <class 'numpy.int64'>\n",
      "\n",
      "Feature  High_Cheekbones   [-1  1]  \n",
      " <class 'numpy.int64'>\n",
      "\n",
      "Feature  Male   [ 1 -1]  \n",
      " <class 'numpy.int64'>\n",
      "\n",
      "Feature  Mouth_Slightly_Open   [-1  1]  \n",
      " <class 'numpy.int64'>\n",
      "\n",
      "Feature  Mustache   [-1  1]  \n",
      " <class 'numpy.int64'>\n",
      "\n",
      "Feature  Narrow_Eyes   [-1  1]  \n",
      " <class 'numpy.int64'>\n",
      "\n",
      "Feature  No_Beard   [ 1 -1]  \n",
      " <class 'numpy.int64'>\n",
      "\n",
      "Feature  Oval_Face   [-1  1]  \n",
      " <class 'numpy.int64'>\n",
      "\n",
      "Feature  Pale_Skin   [-1  1]  \n",
      " <class 'numpy.int64'>\n",
      "\n",
      "Feature  Pointy_Nose   [-1  1]  \n",
      " <class 'numpy.int64'>\n",
      "\n",
      "Feature  Receding_Hairline   [-1  1]  \n",
      " <class 'numpy.int64'>\n",
      "\n",
      "Feature  Rosy_Cheeks   [-1  1]  \n",
      " <class 'numpy.int64'>\n",
      "\n",
      "Feature  Sideburns   [-1  1]  \n",
      " <class 'numpy.int64'>\n",
      "\n",
      "Feature  Smiling   [ 1 -1]  \n",
      " <class 'numpy.int64'>\n",
      "\n",
      "Feature  Straight_Hair   [-1  1]  \n",
      " <class 'numpy.int64'>\n",
      "\n",
      "Feature  Wavy_Hair   [ 1 -1]  \n",
      " <class 'numpy.int64'>\n",
      "\n",
      "Feature  Wearing_Earrings   [-1  1]  \n",
      " <class 'numpy.int64'>\n",
      "\n",
      "Feature  Wearing_Hat   [-1  1]  \n",
      " <class 'numpy.int64'>\n",
      "\n",
      "Feature  Wearing_Lipstick   [-1  1]  \n",
      " <class 'numpy.int64'>\n",
      "\n",
      "Feature  Wearing_Necklace   [-1  1]  \n",
      " <class 'numpy.int64'>\n",
      "\n",
      "Feature  Wearing_Necktie   [-1  1]  \n",
      " <class 'numpy.int64'>\n",
      "\n",
      "Feature  Young   [ 1 -1]  \n",
      " <class 'numpy.int64'>\n"
     ]
    }
   ],
   "source": [
    "#This will check data types, and unique values including null entries, outliers\n",
    "column_names = df_face_recog.columns\n",
    "column_unique_values = {}\n",
    "\n",
    "\n",
    "for x in column_names:\n",
    "    column_unique_values[x] = df_face_recog[x].unique()\n",
    "\n",
    "for x,y in column_unique_values.items():\n",
    "    print('\\nFeature ', x, ' ', y, ' \\n' , type(y[0]))"
   ]
  },
  {
   "cell_type": "markdown",
   "metadata": {},
   "source": [
    "##### Conclusion: All of our features are binary integers. No categorical data. No missing/null or impossible entries."
   ]
  },
  {
   "cell_type": "markdown",
   "metadata": {},
   "source": [
    "##### This means <br>\n",
    "<ul>\n",
    "    <li><i>One Hot Encoding will not be neccessary</i></li>\n",
    "    <li><i>Normalization of our features will not be neccessary</i></li>\n",
    "</ul>"
   ]
  },
  {
   "cell_type": "markdown",
   "metadata": {},
   "source": [
    "##### Now We distinguish our feature vs our labels"
   ]
  },
  {
   "cell_type": "code",
   "execution_count": 5,
   "metadata": {},
   "outputs": [],
   "source": [
    "feature_columns = ['5_o_Clock_Shadow', 'Arched_Eyebrows', 'Attractive',\n",
    "       'Bags_Under_Eyes', 'Bald', 'Bangs', 'Big_Lips', 'Big_Nose',\n",
    "       'Black_Hair', 'Blond_Hair', 'Blurry', 'Brown_Hair', 'Bushy_Eyebrows',\n",
    "       'Chubby', 'Double_Chin', 'Eyeglasses', 'Goatee', 'Gray_Hair',\n",
    "       'Heavy_Makeup', 'High_Cheekbones', 'Mouth_Slightly_Open',\n",
    "       'Mustache', 'Narrow_Eyes', 'No_Beard', 'Oval_Face', 'Pale_Skin',\n",
    "       'Pointy_Nose', 'Receding_Hairline', 'Rosy_Cheeks', 'Sideburns',\n",
    "       'Smiling', 'Straight_Hair', 'Wavy_Hair', 'Wearing_Earrings',\n",
    "       'Wearing_Hat', 'Wearing_Lipstick', 'Wearing_Necklace',\n",
    "       'Wearing_Necktie', 'Young']\n",
    "label = 'Male'"
   ]
  },
  {
   "cell_type": "code",
   "execution_count": null,
   "metadata": {},
   "outputs": [],
   "source": []
  },
  {
   "cell_type": "code",
   "execution_count": null,
   "metadata": {},
   "outputs": [],
   "source": []
  },
  {
   "cell_type": "code",
   "execution_count": null,
   "metadata": {},
   "outputs": [],
   "source": []
  },
  {
   "cell_type": "markdown",
   "metadata": {},
   "source": [
    "###### Now that we have some more information about our dataset we can begin to apply our algorithms"
   ]
  },
  {
   "cell_type": "markdown",
   "metadata": {},
   "source": [
    "## 5. The Code"
   ]
  },
  {
   "cell_type": "markdown",
   "metadata": {},
   "source": [
    "###### First we create our feature matrix & label array"
   ]
  },
  {
   "cell_type": "code",
   "execution_count": 6,
   "metadata": {},
   "outputs": [],
   "source": [
    "#For Random Forest, Decision Tree, Ada Boost and SVM\n",
    "features_matrix = df_face_recog[feature_columns]\n",
    "label = df_face_recog['Male']"
   ]
  },
  {
   "cell_type": "code",
   "execution_count": 7,
   "metadata": {},
   "outputs": [],
   "source": [
    "#For KNN, Logisitic Regression, XGB Boost and ANN\n",
    "\n"
   ]
  },
  {
   "cell_type": "markdown",
   "metadata": {},
   "source": [
    "##### We split our data "
   ]
  },
  {
   "cell_type": "code",
   "execution_count": 8,
   "metadata": {},
   "outputs": [],
   "source": [
    "from sklearn.model_selection import train_test_split\n",
    "X_train, X_test, y_train, y_test = train_test_split(features_matrix, label, test_size=0.3, random_state=2)"
   ]
  },
  {
   "cell_type": "markdown",
   "metadata": {},
   "source": [
    "### 5.1 Random Forest"
   ]
  },
  {
   "cell_type": "markdown",
   "metadata": {},
   "source": [
    "###### To get a quick look at how useful our dataset is to our algorithm is we do a quick run.  "
   ]
  },
  {
   "cell_type": "markdown",
   "metadata": {},
   "source": [
    "##### 5.1.1 Fast Run"
   ]
  },
  {
   "cell_type": "code",
   "execution_count": 20,
   "metadata": {},
   "outputs": [
    {
     "name": "stdout",
     "output_type": "stream",
     "text": [
      "Accuracy is  0.9300756827903915\n"
     ]
    }
   ],
   "source": [
    "rf = RandomForestClassifier(n_estimators = 155, bootstrap = True, random_state=9)\n",
    "rf.fit(X_train, y_train)\n",
    "rf_predictions = rf.predict(X_test)\n",
    "print('Accuracy is ', accuracy_score(y_test, rf_predictions))"
   ]
  },
  {
   "cell_type": "markdown",
   "metadata": {},
   "source": [
    "##### The dataset seems to be useful. The accuracy is decent."
   ]
  },
  {
   "cell_type": "markdown",
   "metadata": {},
   "source": [
    "##### We cannot rely only this metric. We will look at:\n",
    "<ul>\n",
    "    <li>False Postive Rate</li>\n",
    "    <li>True Positive Rate</li>\n",
    "    <li>Area Under Curve</li>\n",
    "    <li>Confusion Matrix</li>\n",
    "    <li>Roc Curve</li>\n",
    "    \n",
    "</ul>"
   ]
  },
  {
   "cell_type": "markdown",
   "metadata": {},
   "source": [
    "###### Fast Run: True Positive Rate (TPR) and False Positive Rate (FPR):"
   ]
  },
  {
   "cell_type": "code",
   "execution_count": 10,
   "metadata": {},
   "outputs": [
    {
     "name": "stdout",
     "output_type": "stream",
     "text": [
      "FPR\n",
      "[0.         0.00111111 0.00111111 0.00138889 0.00138889 0.00166667\n",
      " 0.00166667 0.00166667 0.00166667 0.00166667 0.00166667 0.00166667\n",
      " 0.00222222 0.00222222 0.00222222 0.0025     0.0025     0.00305556\n",
      " 0.00305556 0.00305556]\n",
      "TPR\n",
      "[0.         0.35794996 0.35835351 0.35875706 0.35916061 0.36077482\n",
      " 0.36198547 0.36359968 0.36400323 0.36481033 0.36642454 0.36763519\n",
      " 0.36924939 0.36965295 0.37046005 0.37046005 0.3708636  0.37409201\n",
      " 0.37489911 0.37570621]\n"
     ]
    }
   ],
   "source": [
    "y_predict_prob_rf = rf.predict_proba(X_test)\n",
    "fpr, tpr, thresholds = metrics.roc_curve(y_test, y_predict_prob_rf[:,1], pos_label=1)\n",
    "\n",
    "#FPR\n",
    "print('FPR')\n",
    "print(fpr[0:20])\n",
    "\n",
    "#TRP\n",
    "print('TPR')\n",
    "print(tpr[0:20])"
   ]
  },
  {
   "cell_type": "markdown",
   "metadata": {},
   "source": [
    "###### Fast Run: Confusion Matrix"
   ]
  },
  {
   "cell_type": "code",
   "execution_count": 11,
   "metadata": {},
   "outputs": [
    {
     "name": "stdout",
     "output_type": "stream",
     "text": [
      "[[3358  242]\n",
      " [ 183 2295]]\n"
     ]
    }
   ],
   "source": [
    "cm_rf = metrics.confusion_matrix(y_test, rf_predictions)\n",
    "print(cm_rf)"
   ]
  },
  {
   "cell_type": "code",
   "execution_count": 12,
   "metadata": {},
   "outputs": [
    {
     "name": "stdout",
     "output_type": "stream",
     "text": [
      "3358\n",
      "242\n",
      "183\n",
      "2295\n"
     ]
    }
   ],
   "source": [
    "tn, fp, fn, tp = metrics.confusion_matrix(y_test, rf_predictions).ravel()\n",
    "print(tn)\n",
    "print(fp)\n",
    "print(fn)\n",
    "print(tp)"
   ]
  },
  {
   "cell_type": "markdown",
   "metadata": {},
   "source": [
    "##### The results are decent. The number of False Positives and False Negative are low in comparison to number of True Negative and True Postive. "
   ]
  },
  {
   "cell_type": "markdown",
   "metadata": {},
   "source": [
    "##### Still, there is improvement that can be done. Matching gender correctly might be important depending on the application such as ensuring men do not enter a woman's restroom or vice versa. We will therefore apply techniques later on to try and improve our results."
   ]
  },
  {
   "cell_type": "markdown",
   "metadata": {},
   "source": [
    "##### Fast Run AUC"
   ]
  },
  {
   "cell_type": "code",
   "execution_count": 13,
   "metadata": {},
   "outputs": [
    {
     "data": {
      "text/plain": [
       "0.9825403551251007"
      ]
     },
     "execution_count": 13,
     "metadata": {},
     "output_type": "execute_result"
    }
   ],
   "source": [
    "AUC = metrics.auc(fpr, tpr)\n",
    "AUC"
   ]
  },
  {
   "cell_type": "markdown",
   "metadata": {},
   "source": [
    "##### Fast Run ROC CURVE"
   ]
  },
  {
   "cell_type": "code",
   "execution_count": 14,
   "metadata": {
    "scrolled": false
   },
   "outputs": [
    {
     "data": {
      "image/png": "[encoded data removed]",
      "text/plain": [
       "<Figure size 432x288 with 1 Axes>"
      ]
     },
     "metadata": {
      "needs_background": "light"
     },
     "output_type": "display_data"
    }
   ],
   "source": [
    "%matplotlib inline\n",
    "\n",
    "plt.figure()\n",
    "\n",
    "# Roc Curve:\n",
    "plt.plot(fpr, tpr, color='red', lw=2, \n",
    "         label='ROC Curve (area = %0.2f)' % AUC)\n",
    "\n",
    "# Random Guess line:\n",
    "plt.plot([0, 1], [0, 1], color='blue', lw=1, linestyle='--')\n",
    "\n",
    "# Defining The Range of X-Axis and Y-Axis:\n",
    "plt.xlim([-0.005, 1.005])\n",
    "plt.ylim([0.0, 1.01])\n",
    "\n",
    "# Labels, Title, Legend:\n",
    "plt.xlabel('False Positive Rate')\n",
    "plt.ylabel('True Positive Rate')\n",
    "plt.title('Receiver operating characteristic')\n",
    "plt.legend(loc=\"lower right\")\n",
    "\n",
    "plt.show()"
   ]
  },
  {
   "cell_type": "markdown",
   "metadata": {},
   "source": [
    "##### With An AUC of .98, random forest algorithm is performing well."
   ]
  },
  {
   "cell_type": "markdown",
   "metadata": {},
   "source": [
    "###### Now to get a more fair evaluation of our accuracy we incorporate cross validation"
   ]
  },
  {
   "cell_type": "markdown",
   "metadata": {},
   "source": [
    "#### 5.1.2 Cross Validation"
   ]
  },
  {
   "cell_type": "code",
   "execution_count": 15,
   "metadata": {},
   "outputs": [
    {
     "name": "stdout",
     "output_type": "stream",
     "text": [
      "10 fold validation accuracies\n",
      "\n",
      "[0.92698569 0.94079921 0.92205229 0.92402565 0.93830207 0.93876543\n",
      " 0.92839506 0.93777778 0.93728395 0.94024691]\n",
      "\n",
      " cross validation average accuracy  0.93346340603575\n"
     ]
    }
   ],
   "source": [
    "cross_valid_rf = RandomForestClassifier(n_estimators = 155, bootstrap = True, random_state=9)\n",
    "rf_accuracies = cross_val_score(cross_valid_rf, features_matrix, label, cv=10, scoring='accuracy')\n",
    "print('10 fold validation accuracies\\n')\n",
    "print(rf_accuracies)\n",
    "accuracy_average = rf_accuracies.mean()\n",
    "print('\\n cross validation average accuracy ' , accuracy_average)"
   ]
  },
  {
   "cell_type": "markdown",
   "metadata": {},
   "source": [
    "##### The results are consistent with our Fast Run. Also, our range of accuracies seems to be small."
   ]
  },
  {
   "cell_type": "markdown",
   "metadata": {},
   "source": [
    "###### We will now attempt to improve our accuracy by reducing the complexity of the model through feature selection "
   ]
  },
  {
   "cell_type": "markdown",
   "metadata": {},
   "source": [
    "#### 5.1.3 Feature Selection"
   ]
  },
  {
   "cell_type": "markdown",
   "metadata": {},
   "source": [
    "##### We consider consider, order, and print features by their contribution to the model"
   ]
  },
  {
   "cell_type": "code",
   "execution_count": 16,
   "metadata": {},
   "outputs": [
    {
     "data": {
      "text/html": [
       "<div>\n",
       "<style scoped>\n",
       "    .dataframe tbody tr th:only-of-type {\n",
       "        vertical-align: middle;\n",
       "    }\n",
       "\n",
       "    .dataframe tbody tr th {\n",
       "        vertical-align: top;\n",
       "    }\n",
       "\n",
       "    .dataframe thead th {\n",
       "        text-align: right;\n",
       "    }\n",
       "</style>\n",
       "<table border=\"1\" class=\"dataframe\">\n",
       "  <thead>\n",
       "    <tr style=\"text-align: right;\">\n",
       "      <th></th>\n",
       "      <th>importance</th>\n",
       "    </tr>\n",
       "  </thead>\n",
       "  <tbody>\n",
       "    <tr>\n",
       "      <th>Wearing_Lipstick</th>\n",
       "      <td>0.294398</td>\n",
       "    </tr>\n",
       "    <tr>\n",
       "      <th>Heavy_Makeup</th>\n",
       "      <td>0.119371</td>\n",
       "    </tr>\n",
       "    <tr>\n",
       "      <th>No_Beard</th>\n",
       "      <td>0.080616</td>\n",
       "    </tr>\n",
       "    <tr>\n",
       "      <th>5_o_Clock_Shadow</th>\n",
       "      <td>0.053175</td>\n",
       "    </tr>\n",
       "    <tr>\n",
       "      <th>Wearing_Earrings</th>\n",
       "      <td>0.044933</td>\n",
       "    </tr>\n",
       "    <tr>\n",
       "      <th>Arched_Eyebrows</th>\n",
       "      <td>0.041539</td>\n",
       "    </tr>\n",
       "    <tr>\n",
       "      <th>Big_Nose</th>\n",
       "      <td>0.039662</td>\n",
       "    </tr>\n",
       "    <tr>\n",
       "      <th>Attractive</th>\n",
       "      <td>0.031696</td>\n",
       "    </tr>\n",
       "    <tr>\n",
       "      <th>Wearing_Necktie</th>\n",
       "      <td>0.024530</td>\n",
       "    </tr>\n",
       "    <tr>\n",
       "      <th>Wavy_Hair</th>\n",
       "      <td>0.023467</td>\n",
       "    </tr>\n",
       "    <tr>\n",
       "      <th>Blond_Hair</th>\n",
       "      <td>0.018803</td>\n",
       "    </tr>\n",
       "    <tr>\n",
       "      <th>Bushy_Eyebrows</th>\n",
       "      <td>0.015997</td>\n",
       "    </tr>\n",
       "    <tr>\n",
       "      <th>Wearing_Necklace</th>\n",
       "      <td>0.015387</td>\n",
       "    </tr>\n",
       "    <tr>\n",
       "      <th>Young</th>\n",
       "      <td>0.014908</td>\n",
       "    </tr>\n",
       "    <tr>\n",
       "      <th>Bags_Under_Eyes</th>\n",
       "      <td>0.014386</td>\n",
       "    </tr>\n",
       "    <tr>\n",
       "      <th>High_Cheekbones</th>\n",
       "      <td>0.012195</td>\n",
       "    </tr>\n",
       "    <tr>\n",
       "      <th>Bangs</th>\n",
       "      <td>0.011947</td>\n",
       "    </tr>\n",
       "    <tr>\n",
       "      <th>Big_Lips</th>\n",
       "      <td>0.010653</td>\n",
       "    </tr>\n",
       "    <tr>\n",
       "      <th>Oval_Face</th>\n",
       "      <td>0.010606</td>\n",
       "    </tr>\n",
       "    <tr>\n",
       "      <th>Mouth_Slightly_Open</th>\n",
       "      <td>0.010418</td>\n",
       "    </tr>\n",
       "    <tr>\n",
       "      <th>Straight_Hair</th>\n",
       "      <td>0.009259</td>\n",
       "    </tr>\n",
       "    <tr>\n",
       "      <th>Brown_Hair</th>\n",
       "      <td>0.009255</td>\n",
       "    </tr>\n",
       "    <tr>\n",
       "      <th>Pointy_Nose</th>\n",
       "      <td>0.009176</td>\n",
       "    </tr>\n",
       "    <tr>\n",
       "      <th>Black_Hair</th>\n",
       "      <td>0.009161</td>\n",
       "    </tr>\n",
       "    <tr>\n",
       "      <th>Smiling</th>\n",
       "      <td>0.008908</td>\n",
       "    </tr>\n",
       "    <tr>\n",
       "      <th>Blurry</th>\n",
       "      <td>0.007926</td>\n",
       "    </tr>\n",
       "    <tr>\n",
       "      <th>Narrow_Eyes</th>\n",
       "      <td>0.007904</td>\n",
       "    </tr>\n",
       "    <tr>\n",
       "      <th>Goatee</th>\n",
       "      <td>0.007829</td>\n",
       "    </tr>\n",
       "    <tr>\n",
       "      <th>Eyeglasses</th>\n",
       "      <td>0.006383</td>\n",
       "    </tr>\n",
       "    <tr>\n",
       "      <th>Sideburns</th>\n",
       "      <td>0.006060</td>\n",
       "    </tr>\n",
       "    <tr>\n",
       "      <th>Receding_Hairline</th>\n",
       "      <td>0.005589</td>\n",
       "    </tr>\n",
       "    <tr>\n",
       "      <th>Pale_Skin</th>\n",
       "      <td>0.004702</td>\n",
       "    </tr>\n",
       "    <tr>\n",
       "      <th>Wearing_Hat</th>\n",
       "      <td>0.004479</td>\n",
       "    </tr>\n",
       "    <tr>\n",
       "      <th>Chubby</th>\n",
       "      <td>0.003904</td>\n",
       "    </tr>\n",
       "    <tr>\n",
       "      <th>Double_Chin</th>\n",
       "      <td>0.003784</td>\n",
       "    </tr>\n",
       "    <tr>\n",
       "      <th>Gray_Hair</th>\n",
       "      <td>0.002538</td>\n",
       "    </tr>\n",
       "    <tr>\n",
       "      <th>Mustache</th>\n",
       "      <td>0.001907</td>\n",
       "    </tr>\n",
       "    <tr>\n",
       "      <th>Bald</th>\n",
       "      <td>0.001404</td>\n",
       "    </tr>\n",
       "    <tr>\n",
       "      <th>Rosy_Cheeks</th>\n",
       "      <td>0.001145</td>\n",
       "    </tr>\n",
       "  </tbody>\n",
       "</table>\n",
       "</div>"
      ],
      "text/plain": [
       "                     importance\n",
       "Wearing_Lipstick       0.294398\n",
       "Heavy_Makeup           0.119371\n",
       "No_Beard               0.080616\n",
       "5_o_Clock_Shadow       0.053175\n",
       "Wearing_Earrings       0.044933\n",
       "Arched_Eyebrows        0.041539\n",
       "Big_Nose               0.039662\n",
       "Attractive             0.031696\n",
       "Wearing_Necktie        0.024530\n",
       "Wavy_Hair              0.023467\n",
       "Blond_Hair             0.018803\n",
       "Bushy_Eyebrows         0.015997\n",
       "Wearing_Necklace       0.015387\n",
       "Young                  0.014908\n",
       "Bags_Under_Eyes        0.014386\n",
       "High_Cheekbones        0.012195\n",
       "Bangs                  0.011947\n",
       "Big_Lips               0.010653\n",
       "Oval_Face              0.010606\n",
       "Mouth_Slightly_Open    0.010418\n",
       "Straight_Hair          0.009259\n",
       "Brown_Hair             0.009255\n",
       "Pointy_Nose            0.009176\n",
       "Black_Hair             0.009161\n",
       "Smiling                0.008908\n",
       "Blurry                 0.007926\n",
       "Narrow_Eyes            0.007904\n",
       "Goatee                 0.007829\n",
       "Eyeglasses             0.006383\n",
       "Sideburns              0.006060\n",
       "Receding_Hairline      0.005589\n",
       "Pale_Skin              0.004702\n",
       "Wearing_Hat            0.004479\n",
       "Chubby                 0.003904\n",
       "Double_Chin            0.003784\n",
       "Gray_Hair              0.002538\n",
       "Mustache               0.001907\n",
       "Bald                   0.001404\n",
       "Rosy_Cheeks            0.001145"
      ]
     },
     "execution_count": 16,
     "metadata": {},
     "output_type": "execute_result"
    }
   ],
   "source": [
    "feature_importances_rf = pd.DataFrame(rf.feature_importances_,\n",
    "                                   index = X_train.columns,\n",
    "                                    columns=['importance']).sort_values('importance',ascending=False)\n",
    "feature_importances_rf"
   ]
  },
  {
   "cell_type": "markdown",
   "metadata": {},
   "source": [
    "###### There are many features that appear to contribute very little to our model, less than 1 percent. We have therefore decided to cut off the most useless features one at a time to check the changes in our accuracy."
   ]
  },
  {
   "cell_type": "markdown",
   "metadata": {},
   "source": [
    "###### Count features that contribute less than one perent"
   ]
  },
  {
   "cell_type": "code",
   "execution_count": 17,
   "metadata": {},
   "outputs": [
    {
     "name": "stdout",
     "output_type": "stream",
     "text": [
      "The amount of useless features 19\n"
     ]
    }
   ],
   "source": [
    "#extract useless features\n",
    "features_rf_fea_sele = []\n",
    "count_useless_features = 0#features that contribute less than 1 percent\n",
    "\n",
    "for index, row in feature_importances_rf.iterrows():\n",
    "    features_rf_fea_sele.append(index)\n",
    "    if row[0] < 0.01:\n",
    "        count_useless_features+=1\n",
    "        \n",
    "print('The amount of useless features', count_useless_features)"
   ]
  },
  {
   "cell_type": "markdown",
   "metadata": {},
   "source": [
    "###### Remove useless features 1 at a time and compare new accuracy with original accuracy"
   ]
  },
  {
   "cell_type": "code",
   "execution_count": 22,
   "metadata": {},
   "outputs": [
    {
     "data": {
      "text/plain": [
       "{'original': 0.93346340603575,\n",
       " 'Top38 features': 0.93237732740527,\n",
       " 'Top37 features': 0.9318833541180872,\n",
       " 'Top36 features': 0.9325747121187286,\n",
       " 'Top35 features': 0.9333645432259419,\n",
       " 'Top34 features': 0.9324263690468128,\n",
       " 'Top33 features': 0.9329203180316552,\n",
       " 'Top32 features': 0.9323768645304644,\n",
       " 'Top31 features': 0.9320312586656379,\n",
       " 'Top30 features': 0.9320808850303843,\n",
       " 'Top29 features': 0.9320316484891235,\n",
       " 'Top28 features': 0.9326730634009517,\n",
       " 'Top27 features': 0.9320313317169571,\n",
       " 'Top26 features': 0.9317844425112,\n",
       " 'Top25 features': 0.9294154609095445,\n",
       " 'Top24 features': 0.9286753778711777,\n",
       " 'Top23 features': 0.9291686690574471,\n",
       " 'Top22 features': 0.9299087763500544,\n",
       " 'Top21 features': 0.9321303163511141,\n",
       " 'Top20 features': 0.9328710083188259,\n",
       " 'Top19 features': 0.9331673533641013,\n",
       " 'Top18 features': 0.9332164436343744,\n",
       " 'Top17 features': 0.9317357175215744,\n",
       " 'Top16 features': 0.9304027252867973,\n",
       " 'Top15 features': 0.9312418904332299,\n",
       " 'Top14 features': 0.9300077366818712,\n",
       " 'Top13 features': 0.930254552812259,\n",
       " 'Top12 features': 0.9268983554139816,\n",
       " 'Top11 features': 0.9251707156247353,\n",
       " 'Top10 features': 0.9188032201454543,\n",
       " 'Top9 features': 0.9183588000754996,\n",
       " 'Top8 features': 0.917371413753649,\n",
       " 'Top7 features': 0.9174702279106773,\n",
       " 'Top6 features': 0.9142125279213117,\n",
       " 'Top5 features': 0.9117443422910425,\n",
       " 'Top4 features': 0.8929377623741104}"
      ]
     },
     "execution_count": 22,
     "metadata": {},
     "output_type": "execute_result"
    }
   ],
   "source": [
    "dic_tracking_acc = {'original': rf_accuracies.mean()}\n",
    "#func def to do cv, given a specific algorithm\n",
    "from sklearn.model_selection import cross_val_score\n",
    "for x in range(35):\n",
    "    #cv\n",
    "\n",
    "    cross_valid_rf_fs = RandomForestClassifier(n_estimators = 155, bootstrap = True, random_state=9)\n",
    "    rf_accuracies_fs = cross_val_score(cross_valid_rf_fs, features_matrix[features_rf_fea_sele[0:-(x+1)]], label, cv=10, scoring='accuracy')\n",
    "    #print(rf_accuracies)\n",
    "    accuracy_average_rf_fs = rf_accuracies_fs.mean()\n",
    "    dic_tracking_acc['Top' + str(len(features_rf_fea_sele[0:-(x+1)])) + ' features'] = accuracy_average_rf_fs\n",
    "    \n",
    "dic_tracking_acc  \n"
   ]
  },
  {
   "cell_type": "markdown",
   "metadata": {},
   "source": [
    "##### Conclusion: Feature selection did not really provide any significant improvement"
   ]
  },
  {
   "cell_type": "markdown",
   "metadata": {},
   "source": [
    "##### We will now try and simply our model by reducing the dimensions instead of cutting off our features entirely. We <br><br>will therefore apply regularization through PCA"
   ]
  },
  {
   "cell_type": "markdown",
   "metadata": {},
   "source": [
    "#### 5.1.4 Regularization PCA"
   ]
  },
  {
   "cell_type": "markdown",
   "metadata": {},
   "source": [
    "###### Find best number of dimensions/features"
   ]
  },
  {
   "cell_type": "code",
   "execution_count": 19,
   "metadata": {},
   "outputs": [
    {
     "name": "stdout",
     "output_type": "stream",
     "text": [
      "Optimal number of features : 33\n"
     ]
    }
   ],
   "source": [
    "svr = SVR(kernel=\"linear\") # estimator\n",
    "\n",
    "rfecv = RFECV(estimator=svr, step=1, cv=StratifiedKFold(2))\n",
    "rfecv.fit(X_train, y_train)\n",
    "print(\"Optimal number of features : %d\" % rfecv.n_features_)"
   ]
  },
  {
   "cell_type": "markdown",
   "metadata": {},
   "source": [
    "###### Transforming our data, lowering the dimension of our data to 33 features"
   ]
  },
  {
   "cell_type": "code",
   "execution_count": 44,
   "metadata": {},
   "outputs": [],
   "source": [
    "from sklearn.decomposition import PCA\n",
    "k = 33 # (k is the number of components (new features) after dimensionality reduction)\n",
    "my_pca = PCA(n_components = k)\n",
    "# X_Train is feature matrix of training set before dimensionality reduction,\n",
    "# X_Train_New is feature matrix of training set after dimensionality reduction:\n",
    "feature_matrix_pca_transformed = my_pca.fit_transform(features_matrix)\n"
   ]
  },
  {
   "cell_type": "markdown",
   "metadata": {},
   "source": [
    "##### Now we will apply PCA with cross validation to better ensure a fair result"
   ]
  },
  {
   "cell_type": "code",
   "execution_count": 45,
   "metadata": {},
   "outputs": [
    {
     "name": "stdout",
     "output_type": "stream",
     "text": [
      "Average Accuracy of Random Forest with PCA and Cross Validation is \n",
      " 0.9273429947821936\n"
     ]
    }
   ],
   "source": [
    "cross_valid_rf_pca = RandomForestClassifier(n_estimators = 29, bootstrap = True, random_state=2)\n",
    "rf_accuracies_pca = cross_val_score(cross_valid_rf_pca, feature_matrix_pca_transformed, label, cv=10, scoring='accuracy')\n",
    "#print(rf_accuracies_pca)\n",
    "accuracy_average_pca = rf_accuracies_pca.mean()\n",
    "print('Average Accuracy of Random Forest with PCA and Cross Validation is \\n', accuracy_average_pca)"
   ]
  },
  {
   "cell_type": "markdown",
   "metadata": {},
   "source": [
    "##### PCA did really make a significant improvement to our accuracy"
   ]
  },
  {
   "cell_type": "markdown",
   "metadata": {},
   "source": [
    "#### We will repeat this process for the rest of our algorithms adjusting our code when neccessary. "
   ]
  },
  {
   "cell_type": "markdown",
   "metadata": {},
   "source": [
    "### 5.2 Decision Tree"
   ]
  },
  {
   "cell_type": "markdown",
   "metadata": {},
   "source": [
    "##### 5.2.1 Fast Run"
   ]
  },
  {
   "cell_type": "code",
   "execution_count": 33,
   "metadata": {},
   "outputs": [
    {
     "name": "stdout",
     "output_type": "stream",
     "text": [
      "Accuracy is  0.9124712076340902\n"
     ]
    }
   ],
   "source": [
    "dt_class = DecisionTreeClassifier(random_state=2)\n",
    "dt_class.fit(X_train, y_train)\n",
    "dt_predictions = dt_class.predict(X_test)\n",
    "dt_accuracy_fr = accuracy_score(y_test, dt_predictions)\n",
    "print('Accuracy is ', dt_accuracy_fr)"
   ]
  },
  {
   "cell_type": "markdown",
   "metadata": {},
   "source": [
    "###### Fast Run: True Positive Rate (TPR) and False Positive Rate (FPR):"
   ]
  },
  {
   "cell_type": "code",
   "execution_count": 34,
   "metadata": {},
   "outputs": [
    {
     "name": "stdout",
     "output_type": "stream",
     "text": [
      "TPR\n",
      "[0.         0.85633575 0.85996772 0.86198547 0.86521388]\n",
      "FPR\n",
      "[0.         0.06638889 0.06666667 0.06666667 0.06777778]\n"
     ]
    }
   ],
   "source": [
    "y_predict_prob_dt = dt_class.predict_proba(X_test)\n",
    "y_predict_prob_dt[0:5]\n",
    "fpr_dt, tpr_dt, thresholds = metrics.roc_curve(y_test, y_predict_prob_dt[:,1], pos_label=1)\n",
    "#TPR\n",
    "print('TPR')\n",
    "print(tpr_dt[0:5])\n",
    "\n",
    "#FPR\n",
    "print('FPR')\n",
    "print(fpr_dt[0:5])"
   ]
  },
  {
   "cell_type": "markdown",
   "metadata": {},
   "source": [
    "###### Fast Run: Confusion Matrix"
   ]
  },
  {
   "cell_type": "code",
   "execution_count": 35,
   "metadata": {},
   "outputs": [
    {
     "name": "stdout",
     "output_type": "stream",
     "text": [
      "[[3320  280]\n",
      " [ 252 2226]]\n"
     ]
    }
   ],
   "source": [
    "cm_dt = metrics.confusion_matrix(y_test, dt_predictions)\n",
    "print(cm_dt)"
   ]
  },
  {
   "cell_type": "markdown",
   "metadata": {},
   "source": [
    "##### Fast Run AUC"
   ]
  },
  {
   "cell_type": "code",
   "execution_count": 36,
   "metadata": {},
   "outputs": [
    {
     "data": {
      "text/plain": [
       "0.92433627028966"
      ]
     },
     "execution_count": 36,
     "metadata": {},
     "output_type": "execute_result"
    }
   ],
   "source": [
    "AUC_dt = metrics.auc(fpr_dt, tpr_dt)\n",
    "AUC_dt"
   ]
  },
  {
   "cell_type": "markdown",
   "metadata": {},
   "source": [
    "##### Fast Run Roc Curve"
   ]
  },
  {
   "cell_type": "code",
   "execution_count": 37,
   "metadata": {},
   "outputs": [
    {
     "data": {
      "image/png": "[encoded data removed]",
      "text/plain": [
       "<Figure size 432x288 with 1 Axes>"
      ]
     },
     "metadata": {
      "needs_background": "light"
     },
     "output_type": "display_data"
    }
   ],
   "source": [
    "\n",
    "# The following line will tell Jupyter Notebook to keep the figures inside the explorer page \n",
    "# rather than openng a new figure window:\n",
    "%matplotlib inline\n",
    "\n",
    "plt.figure()\n",
    "\n",
    "# Roc Curve:\n",
    "plt.plot(fpr_dt, tpr_dt, color='red', lw=2, \n",
    "         label='ROC Curve (area = %0.2f)' % AUC_dt)\n",
    "\n",
    "# Random Guess line:\n",
    "plt.plot([0, 1], [0, 1], color='blue', lw=1, linestyle='--')\n",
    "\n",
    "# Defining The Range of X-Axis and Y-Axis:\n",
    "plt.xlim([-0.005, 1.005])\n",
    "plt.ylim([0.0, 1.01])\n",
    "\n",
    "# Labels, Title, Legend:\n",
    "plt.xlabel('False Positive Rate')\n",
    "plt.ylabel('True Positive Rate')\n",
    "plt.title('Receiver operating characteristic')\n",
    "plt.legend(loc=\"lower right\")\n",
    "\n",
    "plt.show()"
   ]
  },
  {
   "cell_type": "markdown",
   "metadata": {},
   "source": [
    "#### 5.2.2 Cross Validation"
   ]
  },
  {
   "cell_type": "code",
   "execution_count": 38,
   "metadata": {},
   "outputs": [
    {
     "data": {
      "text/plain": [
       "0.9137191638039719"
      ]
     },
     "execution_count": 38,
     "metadata": {},
     "output_type": "execute_result"
    }
   ],
   "source": [
    "dt_cv = DecisionTreeClassifier(random_state=2)\n",
    "dt_accuracies_cv = cross_val_score(dt_cv, features_matrix, label, cv=10, scoring='accuracy')\n",
    "dt_accuracy_average = dt_accuracies_cv.mean()\n",
    "dt_accuracy_average"
   ]
  },
  {
   "cell_type": "markdown",
   "metadata": {},
   "source": [
    "#### 5.2.3 Feature Selection"
   ]
  },
  {
   "cell_type": "markdown",
   "metadata": {},
   "source": [
    "##### We consider consider, order, and print features by their contribution to the model"
   ]
  },
  {
   "cell_type": "code",
   "execution_count": 39,
   "metadata": {},
   "outputs": [
    {
     "data": {
      "text/html": [
       "<div>\n",
       "<style scoped>\n",
       "    .dataframe tbody tr th:only-of-type {\n",
       "        vertical-align: middle;\n",
       "    }\n",
       "\n",
       "    .dataframe tbody tr th {\n",
       "        vertical-align: top;\n",
       "    }\n",
       "\n",
       "    .dataframe thead th {\n",
       "        text-align: right;\n",
       "    }\n",
       "</style>\n",
       "<table border=\"1\" class=\"dataframe\">\n",
       "  <thead>\n",
       "    <tr style=\"text-align: right;\">\n",
       "      <th></th>\n",
       "      <th>importance</th>\n",
       "    </tr>\n",
       "  </thead>\n",
       "  <tbody>\n",
       "    <tr>\n",
       "      <th>Wearing_Lipstick</th>\n",
       "      <td>0.655365</td>\n",
       "    </tr>\n",
       "    <tr>\n",
       "      <th>Wearing_Earrings</th>\n",
       "      <td>0.045555</td>\n",
       "    </tr>\n",
       "    <tr>\n",
       "      <th>No_Beard</th>\n",
       "      <td>0.041604</td>\n",
       "    </tr>\n",
       "    <tr>\n",
       "      <th>Big_Nose</th>\n",
       "      <td>0.021883</td>\n",
       "    </tr>\n",
       "    <tr>\n",
       "      <th>Blond_Hair</th>\n",
       "      <td>0.015276</td>\n",
       "    </tr>\n",
       "    <tr>\n",
       "      <th>Wearing_Necktie</th>\n",
       "      <td>0.013114</td>\n",
       "    </tr>\n",
       "    <tr>\n",
       "      <th>Bushy_Eyebrows</th>\n",
       "      <td>0.012766</td>\n",
       "    </tr>\n",
       "    <tr>\n",
       "      <th>High_Cheekbones</th>\n",
       "      <td>0.010462</td>\n",
       "    </tr>\n",
       "    <tr>\n",
       "      <th>Pointy_Nose</th>\n",
       "      <td>0.010399</td>\n",
       "    </tr>\n",
       "    <tr>\n",
       "      <th>Bangs</th>\n",
       "      <td>0.010280</td>\n",
       "    </tr>\n",
       "    <tr>\n",
       "      <th>Arched_Eyebrows</th>\n",
       "      <td>0.010010</td>\n",
       "    </tr>\n",
       "    <tr>\n",
       "      <th>Mouth_Slightly_Open</th>\n",
       "      <td>0.009925</td>\n",
       "    </tr>\n",
       "    <tr>\n",
       "      <th>5_o_Clock_Shadow</th>\n",
       "      <td>0.009810</td>\n",
       "    </tr>\n",
       "    <tr>\n",
       "      <th>Bags_Under_Eyes</th>\n",
       "      <td>0.009679</td>\n",
       "    </tr>\n",
       "    <tr>\n",
       "      <th>Oval_Face</th>\n",
       "      <td>0.009430</td>\n",
       "    </tr>\n",
       "    <tr>\n",
       "      <th>Narrow_Eyes</th>\n",
       "      <td>0.008690</td>\n",
       "    </tr>\n",
       "    <tr>\n",
       "      <th>Attractive</th>\n",
       "      <td>0.008093</td>\n",
       "    </tr>\n",
       "    <tr>\n",
       "      <th>Young</th>\n",
       "      <td>0.007588</td>\n",
       "    </tr>\n",
       "    <tr>\n",
       "      <th>Smiling</th>\n",
       "      <td>0.007571</td>\n",
       "    </tr>\n",
       "    <tr>\n",
       "      <th>Straight_Hair</th>\n",
       "      <td>0.007252</td>\n",
       "    </tr>\n",
       "    <tr>\n",
       "      <th>Wearing_Necklace</th>\n",
       "      <td>0.007210</td>\n",
       "    </tr>\n",
       "    <tr>\n",
       "      <th>Heavy_Makeup</th>\n",
       "      <td>0.006992</td>\n",
       "    </tr>\n",
       "    <tr>\n",
       "      <th>Big_Lips</th>\n",
       "      <td>0.006942</td>\n",
       "    </tr>\n",
       "    <tr>\n",
       "      <th>Brown_Hair</th>\n",
       "      <td>0.006772</td>\n",
       "    </tr>\n",
       "    <tr>\n",
       "      <th>Wavy_Hair</th>\n",
       "      <td>0.006387</td>\n",
       "    </tr>\n",
       "    <tr>\n",
       "      <th>Eyeglasses</th>\n",
       "      <td>0.006333</td>\n",
       "    </tr>\n",
       "    <tr>\n",
       "      <th>Black_Hair</th>\n",
       "      <td>0.006262</td>\n",
       "    </tr>\n",
       "    <tr>\n",
       "      <th>Receding_Hairline</th>\n",
       "      <td>0.005741</td>\n",
       "    </tr>\n",
       "    <tr>\n",
       "      <th>Blurry</th>\n",
       "      <td>0.005402</td>\n",
       "    </tr>\n",
       "    <tr>\n",
       "      <th>Pale_Skin</th>\n",
       "      <td>0.004725</td>\n",
       "    </tr>\n",
       "    <tr>\n",
       "      <th>Wearing_Hat</th>\n",
       "      <td>0.002894</td>\n",
       "    </tr>\n",
       "    <tr>\n",
       "      <th>Chubby</th>\n",
       "      <td>0.002805</td>\n",
       "    </tr>\n",
       "    <tr>\n",
       "      <th>Gray_Hair</th>\n",
       "      <td>0.001745</td>\n",
       "    </tr>\n",
       "    <tr>\n",
       "      <th>Bald</th>\n",
       "      <td>0.001235</td>\n",
       "    </tr>\n",
       "    <tr>\n",
       "      <th>Double_Chin</th>\n",
       "      <td>0.001162</td>\n",
       "    </tr>\n",
       "    <tr>\n",
       "      <th>Rosy_Cheeks</th>\n",
       "      <td>0.000903</td>\n",
       "    </tr>\n",
       "    <tr>\n",
       "      <th>Goatee</th>\n",
       "      <td>0.000704</td>\n",
       "    </tr>\n",
       "    <tr>\n",
       "      <th>Sideburns</th>\n",
       "      <td>0.000561</td>\n",
       "    </tr>\n",
       "    <tr>\n",
       "      <th>Mustache</th>\n",
       "      <td>0.000472</td>\n",
       "    </tr>\n",
       "  </tbody>\n",
       "</table>\n",
       "</div>"
      ],
      "text/plain": [
       "                     importance\n",
       "Wearing_Lipstick       0.655365\n",
       "Wearing_Earrings       0.045555\n",
       "No_Beard               0.041604\n",
       "Big_Nose               0.021883\n",
       "Blond_Hair             0.015276\n",
       "Wearing_Necktie        0.013114\n",
       "Bushy_Eyebrows         0.012766\n",
       "High_Cheekbones        0.010462\n",
       "Pointy_Nose            0.010399\n",
       "Bangs                  0.010280\n",
       "Arched_Eyebrows        0.010010\n",
       "Mouth_Slightly_Open    0.009925\n",
       "5_o_Clock_Shadow       0.009810\n",
       "Bags_Under_Eyes        0.009679\n",
       "Oval_Face              0.009430\n",
       "Narrow_Eyes            0.008690\n",
       "Attractive             0.008093\n",
       "Young                  0.007588\n",
       "Smiling                0.007571\n",
       "Straight_Hair          0.007252\n",
       "Wearing_Necklace       0.007210\n",
       "Heavy_Makeup           0.006992\n",
       "Big_Lips               0.006942\n",
       "Brown_Hair             0.006772\n",
       "Wavy_Hair              0.006387\n",
       "Eyeglasses             0.006333\n",
       "Black_Hair             0.006262\n",
       "Receding_Hairline      0.005741\n",
       "Blurry                 0.005402\n",
       "Pale_Skin              0.004725\n",
       "Wearing_Hat            0.002894\n",
       "Chubby                 0.002805\n",
       "Gray_Hair              0.001745\n",
       "Bald                   0.001235\n",
       "Double_Chin            0.001162\n",
       "Rosy_Cheeks            0.000903\n",
       "Goatee                 0.000704\n",
       "Sideburns              0.000561\n",
       "Mustache               0.000472"
      ]
     },
     "execution_count": 39,
     "metadata": {},
     "output_type": "execute_result"
    }
   ],
   "source": [
    "feature_importances_dt = pd.DataFrame(dt_class.feature_importances_,\n",
    "                                   index = X_train.columns,\n",
    "                                    columns=['importance']).sort_values('importance',ascending=False)\n",
    "feature_importances_dt"
   ]
  },
  {
   "cell_type": "markdown",
   "metadata": {},
   "source": [
    "###### Find useless features that contribute less than 1 percent"
   ]
  },
  {
   "cell_type": "code",
   "execution_count": 40,
   "metadata": {},
   "outputs": [
    {
     "name": "stdout",
     "output_type": "stream",
     "text": [
      "Total Useless features :  28\n"
     ]
    }
   ],
   "source": [
    "#find features that contribute less than 1 percent\n",
    "count_useless_features_dt = 0 #keep track of all features not helping model\n",
    "features_dt_fea_sele = feature_importances_dt.index.tolist() #get all features for dt from most important to least important\n",
    "\n",
    "\n",
    "for x in feature_importances_dt['importance']:\n",
    "    if x < 0.01:\n",
    "        count_useless_features_dt+=1\n",
    "\n",
    "        \n",
    "print('Total Useless features : ', count_useless_features_dt)"
   ]
  },
  {
   "cell_type": "markdown",
   "metadata": {},
   "source": [
    "###### Remove useless features 1 at a time and compare new accuracy with original accuracy"
   ]
  },
  {
   "cell_type": "code",
   "execution_count": 41,
   "metadata": {},
   "outputs": [
    {
     "data": {
      "text/plain": [
       "{'original': 0.9137191638039719,\n",
       " 'Top38 features': 0.9139162317693141,\n",
       " 'Top37 features': 0.9137682784968341,\n",
       " 'Top36 features': 0.9131756859282915,\n",
       " 'Top35 features': 0.9135213893151267,\n",
       " 'Top34 features': 0.914014704851836,\n",
       " 'Top33 features': 0.9136195701683206,\n",
       " 'Top32 features': 0.9151990860636594,\n",
       " 'Top31 features': 0.9152486393049373,\n",
       " 'Top30 features': 0.916087195401776,\n",
       " 'Top29 features': 0.9150504750407059,\n",
       " 'Top28 features': 0.9167787483742849,\n",
       " 'Top27 features': 0.9146572405813416,\n",
       " 'Top26 features': 0.9148044384851403,\n",
       " 'Top25 features': 0.916729365465837,\n",
       " 'Top24 features': 0.9170258566378016,\n",
       " 'Top23 features': 0.9188023675433623,\n",
       " 'Top22 features': 0.9175679702635555,\n",
       " 'Top21 features': 0.9160872684290456,\n",
       " 'Top20 features': 0.9155940746685856,\n",
       " 'Top19 features': 0.916580705717954,\n",
       " 'Top18 features': 0.917865021663985,\n",
       " 'Top17 features': 0.9187536913267659,\n",
       " 'Top16 features': 0.9190990780135845,\n",
       " 'Top15 features': 0.9195930025998875,\n",
       " 'Top14 features': 0.920678496627413,\n",
       " 'Top13 features': 0.9221599779886454,\n",
       " 'Top12 features': 0.9222588895955326,\n",
       " 'Top11 features': 0.9229991917878582}"
      ]
     },
     "execution_count": 41,
     "metadata": {},
     "output_type": "execute_result"
    }
   ],
   "source": [
    "#func def to do cv, given a specific algorithm\n",
    "from sklearn.model_selection import cross_val_score\n",
    "for x in range(count_useless_features_dt):\n",
    "    #cv\n",
    "    \n",
    "    dt_cv_fselection = DecisionTreeClassifier(random_state=2)\n",
    "    dt_accuracies_fs = cross_val_score(dt_cv_fselection, features_matrix[features_dt_fea_sele[0:-(x+1)]], label, cv=10, scoring='accuracy')\n",
    "    #print(rf_accuracies)\n",
    "    \n",
    "    accuracy_average_dt_fs= dt_accuracies_fs.mean()\n",
    "    dic_tracking_accuracy_dt_fs['Top' + str(len(features_rf_fea_sele[0:-(x+1)])) + ' features'] = accuracy_average_dt_fs\n",
    "\n",
    "\n",
    "\n",
    "    \n",
    "dic_tracking_accuracy_dt_fs\n",
    "\n"
   ]
  },
  {
   "cell_type": "markdown",
   "metadata": {},
   "source": [
    "#### 5.2.4 PCA"
   ]
  },
  {
   "cell_type": "code",
   "execution_count": 46,
   "metadata": {},
   "outputs": [
    {
     "name": "stdout",
     "output_type": "stream",
     "text": [
      "[0.8949186  0.91317218 0.89541194 0.9047854  0.90424482 0.90469136\n",
      " 0.89925926 0.9091358  0.90617284 0.9091358 ]\n"
     ]
    },
    {
     "data": {
      "text/plain": [
       "0.9040927989610672"
      ]
     },
     "execution_count": 46,
     "metadata": {},
     "output_type": "execute_result"
    }
   ],
   "source": [
    "from sklearn.tree import DecisionTreeClassifier\n",
    "from sklearn.model_selection import cross_val_score\n",
    "dt_cv_pca = DecisionTreeClassifier(random_state=2)\n",
    "dt_accuracies_cv_pca = cross_val_score(dt_cv_pca, feature_matrix_pca_transformed, label, cv=10, scoring='accuracy')\n",
    "print(dt_accuracies_cv_pca)\n",
    "dt_accuracy_average_pca = dt_accuracies_cv_pca.mean()\n",
    "dt_accuracy_average_pca"
   ]
  },
  {
   "cell_type": "markdown",
   "metadata": {},
   "source": [
    "### 5.3 ADA Boost"
   ]
  },
  {
   "cell_type": "markdown",
   "metadata": {},
   "source": [
    "#### 5.3.1 Fast Run"
   ]
  },
  {
   "cell_type": "code",
   "execution_count": 47,
   "metadata": {},
   "outputs": [
    {
     "data": {
      "text/plain": [
       "0.9313919052319842"
      ]
     },
     "execution_count": 47,
     "metadata": {},
     "output_type": "execute_result"
    }
   ],
   "source": [
    "my_AdaBoost = AdaBoostClassifier(n_estimators = 29,random_state=2)\n",
    "my_AdaBoost.fit(X_train, y_train)\n",
    "ada_predictions = my_AdaBoost.predict(X_test)\n",
    "ada_accuracy = accuracy_score(y_test, ada_predictions)\n",
    "ada_accuracy"
   ]
  },
  {
   "cell_type": "markdown",
   "metadata": {},
   "source": [
    "###### Fast Run: True Positive Rate (TPR) and False Positive Rate (FPR):"
   ]
  },
  {
   "cell_type": "code",
   "execution_count": 48,
   "metadata": {},
   "outputs": [
    {
     "name": "stdout",
     "output_type": "stream",
     "text": [
      "FPR\n",
      "[0. 0. 0. 0. 0.]\n",
      "TPR\n",
      "[0.         0.00040355 0.01089588 0.01170299 0.01331719]\n"
     ]
    }
   ],
   "source": [
    "predictions_probability = my_AdaBoost.predict_proba\n",
    "y_predict_prob_ab = my_AdaBoost.predict_proba(X_test)\n",
    "y_predict_prob_ab[0:5]\n",
    "\n",
    "\n",
    "fpr_ab, tpr_ab, thresholds = metrics.roc_curve(y_test, y_predict_prob_ab[:,1], pos_label=1)\n",
    "\n",
    "\n",
    "#FPR\n",
    "print('FPR')\n",
    "print(fpr_ab[0:5])\n",
    "\n",
    "\n",
    "#TPR\n",
    "print('TPR')\n",
    "print(tpr_ab[0:5])"
   ]
  },
  {
   "cell_type": "markdown",
   "metadata": {},
   "source": [
    "###### Fast Run: Confusion Matrix"
   ]
  },
  {
   "cell_type": "code",
   "execution_count": 49,
   "metadata": {},
   "outputs": [
    {
     "name": "stdout",
     "output_type": "stream",
     "text": [
      "[[3348  252]\n",
      " [ 165 2313]]\n"
     ]
    }
   ],
   "source": [
    "cm_ab = metrics.confusion_matrix(y_test, ada_predictions)\n",
    "print(cm_ab)"
   ]
  },
  {
   "cell_type": "markdown",
   "metadata": {},
   "source": [
    "##### Fast Run AUC"
   ]
  },
  {
   "cell_type": "code",
   "execution_count": 51,
   "metadata": {},
   "outputs": [
    {
     "data": {
      "text/plain": [
       "0.9856599744417541"
      ]
     },
     "execution_count": 51,
     "metadata": {},
     "output_type": "execute_result"
    }
   ],
   "source": [
    "AUC_ab = metrics.auc(fpr_ab, tpr_ab)\n",
    "AUC_ab"
   ]
  },
  {
   "cell_type": "markdown",
   "metadata": {},
   "source": [
    "##### Fast Run ROC CURVE"
   ]
  },
  {
   "cell_type": "code",
   "execution_count": 52,
   "metadata": {},
   "outputs": [
    {
     "data": {
      "image/png": "[encoded data removed]",
      "text/plain": [
       "<Figure size 432x288 with 1 Axes>"
      ]
     },
     "metadata": {
      "needs_background": "light"
     },
     "output_type": "display_data"
    }
   ],
   "source": [
    "# Importing the \"pyplot\" package of \"matplotlib\" library of python to generate \n",
    "# graphs and plot curves:\n",
    "import matplotlib.pyplot as plt\n",
    "\n",
    "# The following line will tell Jupyter Notebook to keep the figures inside the explorer page \n",
    "# rather than openng a new figure window:\n",
    "%matplotlib inline\n",
    "\n",
    "plt.figure()\n",
    "\n",
    "# Roc Curve:\n",
    "plt.plot(fpr_ab, tpr_ab, color='red', lw=2, \n",
    "         label='ROC Curve (area = %0.2f)' % AUC_ab)\n",
    "\n",
    "# Random Guess line:\n",
    "plt.plot([0, 1], [0, 1], color='blue', lw=1, linestyle='--')\n",
    "\n",
    "# Defining The Range of X-Axis and Y-Axis:\n",
    "plt.xlim([-0.005, 1.005])\n",
    "plt.ylim([0.0, 1.01])\n",
    "\n",
    "# Labels, Title, Legend:\n",
    "plt.xlabel('False Positive Rate')\n",
    "plt.ylabel('True Positive Rate')\n",
    "plt.title('Receiver operating characteristic')\n",
    "plt.legend(loc=\"lower right\")\n",
    "\n",
    "plt.show()"
   ]
  },
  {
   "cell_type": "markdown",
   "metadata": {},
   "source": [
    "#### 5.3.2 Cross Validation"
   ]
  },
  {
   "cell_type": "code",
   "execution_count": 53,
   "metadata": {},
   "outputs": [
    {
     "name": "stdout",
     "output_type": "stream",
     "text": [
      "[0.93241243 0.93537247 0.92106561 0.92994573 0.93682132 0.93975309\n",
      " 0.93037037 0.94222222 0.92938272 0.93777778]\n"
     ]
    },
    {
     "data": {
      "text/plain": [
       "0.9335123746259736"
      ]
     },
     "execution_count": 53,
     "metadata": {},
     "output_type": "execute_result"
    }
   ],
   "source": [
    "ab_cv = AdaBoostClassifier(n_estimators = 29,random_state=2)\n",
    "ab_accuracies_cv = cross_val_score(ab_cv, features_matrix, label, cv=10, scoring='accuracy')\n",
    "\n",
    "print(ab_accuracies_cv)\n",
    "accuracy_average = ab_accuracies_cv.mean()\n",
    "accuracy_average\n",
    "\n"
   ]
  },
  {
   "cell_type": "markdown",
   "metadata": {},
   "source": [
    "#### 5.3.3 Feature Selection"
   ]
  },
  {
   "cell_type": "markdown",
   "metadata": {},
   "source": [
    "##### We consider consider, order, and print features by their contribution to the model"
   ]
  },
  {
   "cell_type": "code",
   "execution_count": 55,
   "metadata": {},
   "outputs": [
    {
     "data": {
      "text/html": [
       "<div>\n",
       "<style scoped>\n",
       "    .dataframe tbody tr th:only-of-type {\n",
       "        vertical-align: middle;\n",
       "    }\n",
       "\n",
       "    .dataframe tbody tr th {\n",
       "        vertical-align: top;\n",
       "    }\n",
       "\n",
       "    .dataframe thead th {\n",
       "        text-align: right;\n",
       "    }\n",
       "</style>\n",
       "<table border=\"1\" class=\"dataframe\">\n",
       "  <thead>\n",
       "    <tr style=\"text-align: right;\">\n",
       "      <th></th>\n",
       "      <th>importance</th>\n",
       "    </tr>\n",
       "  </thead>\n",
       "  <tbody>\n",
       "    <tr>\n",
       "      <th>Wearing_Lipstick</th>\n",
       "      <td>0.103448</td>\n",
       "    </tr>\n",
       "    <tr>\n",
       "      <th>Big_Nose</th>\n",
       "      <td>0.068966</td>\n",
       "    </tr>\n",
       "    <tr>\n",
       "      <th>5_o_Clock_Shadow</th>\n",
       "      <td>0.034483</td>\n",
       "    </tr>\n",
       "    <tr>\n",
       "      <th>Gray_Hair</th>\n",
       "      <td>0.034483</td>\n",
       "    </tr>\n",
       "    <tr>\n",
       "      <th>Wearing_Necktie</th>\n",
       "      <td>0.034483</td>\n",
       "    </tr>\n",
       "    <tr>\n",
       "      <th>Wearing_Necklace</th>\n",
       "      <td>0.034483</td>\n",
       "    </tr>\n",
       "    <tr>\n",
       "      <th>Wearing_Earrings</th>\n",
       "      <td>0.034483</td>\n",
       "    </tr>\n",
       "    <tr>\n",
       "      <th>Wavy_Hair</th>\n",
       "      <td>0.034483</td>\n",
       "    </tr>\n",
       "    <tr>\n",
       "      <th>Sideburns</th>\n",
       "      <td>0.034483</td>\n",
       "    </tr>\n",
       "    <tr>\n",
       "      <th>Receding_Hairline</th>\n",
       "      <td>0.034483</td>\n",
       "    </tr>\n",
       "    <tr>\n",
       "      <th>Pointy_Nose</th>\n",
       "      <td>0.034483</td>\n",
       "    </tr>\n",
       "    <tr>\n",
       "      <th>No_Beard</th>\n",
       "      <td>0.034483</td>\n",
       "    </tr>\n",
       "    <tr>\n",
       "      <th>Narrow_Eyes</th>\n",
       "      <td>0.034483</td>\n",
       "    </tr>\n",
       "    <tr>\n",
       "      <th>Arched_Eyebrows</th>\n",
       "      <td>0.034483</td>\n",
       "    </tr>\n",
       "    <tr>\n",
       "      <th>Heavy_Makeup</th>\n",
       "      <td>0.034483</td>\n",
       "    </tr>\n",
       "    <tr>\n",
       "      <th>High_Cheekbones</th>\n",
       "      <td>0.034483</td>\n",
       "    </tr>\n",
       "    <tr>\n",
       "      <th>Blond_Hair</th>\n",
       "      <td>0.034483</td>\n",
       "    </tr>\n",
       "    <tr>\n",
       "      <th>Blurry</th>\n",
       "      <td>0.034483</td>\n",
       "    </tr>\n",
       "    <tr>\n",
       "      <th>Bags_Under_Eyes</th>\n",
       "      <td>0.034483</td>\n",
       "    </tr>\n",
       "    <tr>\n",
       "      <th>Bald</th>\n",
       "      <td>0.034483</td>\n",
       "    </tr>\n",
       "    <tr>\n",
       "      <th>Bangs</th>\n",
       "      <td>0.034483</td>\n",
       "    </tr>\n",
       "    <tr>\n",
       "      <th>Big_Lips</th>\n",
       "      <td>0.034483</td>\n",
       "    </tr>\n",
       "    <tr>\n",
       "      <th>Black_Hair</th>\n",
       "      <td>0.034483</td>\n",
       "    </tr>\n",
       "    <tr>\n",
       "      <th>Young</th>\n",
       "      <td>0.034483</td>\n",
       "    </tr>\n",
       "    <tr>\n",
       "      <th>Bushy_Eyebrows</th>\n",
       "      <td>0.034483</td>\n",
       "    </tr>\n",
       "    <tr>\n",
       "      <th>Double_Chin</th>\n",
       "      <td>0.034483</td>\n",
       "    </tr>\n",
       "    <tr>\n",
       "      <th>Oval_Face</th>\n",
       "      <td>0.000000</td>\n",
       "    </tr>\n",
       "    <tr>\n",
       "      <th>Pale_Skin</th>\n",
       "      <td>0.000000</td>\n",
       "    </tr>\n",
       "    <tr>\n",
       "      <th>Brown_Hair</th>\n",
       "      <td>0.000000</td>\n",
       "    </tr>\n",
       "    <tr>\n",
       "      <th>Eyeglasses</th>\n",
       "      <td>0.000000</td>\n",
       "    </tr>\n",
       "    <tr>\n",
       "      <th>Rosy_Cheeks</th>\n",
       "      <td>0.000000</td>\n",
       "    </tr>\n",
       "    <tr>\n",
       "      <th>Smiling</th>\n",
       "      <td>0.000000</td>\n",
       "    </tr>\n",
       "    <tr>\n",
       "      <th>Straight_Hair</th>\n",
       "      <td>0.000000</td>\n",
       "    </tr>\n",
       "    <tr>\n",
       "      <th>Mustache</th>\n",
       "      <td>0.000000</td>\n",
       "    </tr>\n",
       "    <tr>\n",
       "      <th>Mouth_Slightly_Open</th>\n",
       "      <td>0.000000</td>\n",
       "    </tr>\n",
       "    <tr>\n",
       "      <th>Wearing_Hat</th>\n",
       "      <td>0.000000</td>\n",
       "    </tr>\n",
       "    <tr>\n",
       "      <th>Chubby</th>\n",
       "      <td>0.000000</td>\n",
       "    </tr>\n",
       "    <tr>\n",
       "      <th>Attractive</th>\n",
       "      <td>0.000000</td>\n",
       "    </tr>\n",
       "    <tr>\n",
       "      <th>Goatee</th>\n",
       "      <td>0.000000</td>\n",
       "    </tr>\n",
       "  </tbody>\n",
       "</table>\n",
       "</div>"
      ],
      "text/plain": [
       "                     importance\n",
       "Wearing_Lipstick       0.103448\n",
       "Big_Nose               0.068966\n",
       "5_o_Clock_Shadow       0.034483\n",
       "Gray_Hair              0.034483\n",
       "Wearing_Necktie        0.034483\n",
       "Wearing_Necklace       0.034483\n",
       "Wearing_Earrings       0.034483\n",
       "Wavy_Hair              0.034483\n",
       "Sideburns              0.034483\n",
       "Receding_Hairline      0.034483\n",
       "Pointy_Nose            0.034483\n",
       "No_Beard               0.034483\n",
       "Narrow_Eyes            0.034483\n",
       "Arched_Eyebrows        0.034483\n",
       "Heavy_Makeup           0.034483\n",
       "High_Cheekbones        0.034483\n",
       "Blond_Hair             0.034483\n",
       "Blurry                 0.034483\n",
       "Bags_Under_Eyes        0.034483\n",
       "Bald                   0.034483\n",
       "Bangs                  0.034483\n",
       "Big_Lips               0.034483\n",
       "Black_Hair             0.034483\n",
       "Young                  0.034483\n",
       "Bushy_Eyebrows         0.034483\n",
       "Double_Chin            0.034483\n",
       "Oval_Face              0.000000\n",
       "Pale_Skin              0.000000\n",
       "Brown_Hair             0.000000\n",
       "Eyeglasses             0.000000\n",
       "Rosy_Cheeks            0.000000\n",
       "Smiling                0.000000\n",
       "Straight_Hair          0.000000\n",
       "Mustache               0.000000\n",
       "Mouth_Slightly_Open    0.000000\n",
       "Wearing_Hat            0.000000\n",
       "Chubby                 0.000000\n",
       "Attractive             0.000000\n",
       "Goatee                 0.000000"
      ]
     },
     "execution_count": 55,
     "metadata": {},
     "output_type": "execute_result"
    }
   ],
   "source": [
    "feature_importances_ab = pd.DataFrame(my_AdaBoost.feature_importances_,\n",
    "                                   index = X_train.columns,\n",
    "                                    columns=['importance']).sort_values('importance',ascending=False)\n",
    "feature_importances_ab"
   ]
  },
  {
   "cell_type": "markdown",
   "metadata": {},
   "source": [
    "###### Find useless features that contribute less than 1 percent"
   ]
  },
  {
   "cell_type": "code",
   "execution_count": 56,
   "metadata": {},
   "outputs": [
    {
     "name": "stdout",
     "output_type": "stream",
     "text": [
      "Useless features :  28\n"
     ]
    }
   ],
   "source": [
    "#Eliminate useless features\n",
    "#extract features\n",
    "\n",
    "#find features that contribute less than 1 percent\n",
    "count_useless_features_ab = 0 #keep track of all features not helping model\n",
    "features_ab_fea_sele = feature_importances_ab.index.tolist() #get all features for dt from most important to least important\n",
    "\n",
    "\n",
    "for x in feature_importances_ab['importance']:\n",
    "    if x < 0.01:\n",
    "        count_useless_features_ab+=1\n",
    "\n",
    "        \n",
    "print('Useless features : ', count_useless_features_dt)"
   ]
  },
  {
   "cell_type": "markdown",
   "metadata": {},
   "source": [
    "###### Remove useless features 1 at a time and compare new accuracy with original accuracy"
   ]
  },
  {
   "cell_type": "code",
   "execution_count": 57,
   "metadata": {},
   "outputs": [
    {
     "data": {
      "text/plain": [
       "{'original': 0.9335123746259736,\n",
       " 'Top38 features': 0.9333642264778252,\n",
       " 'Top37 features': 0.933610725956296,\n",
       " 'Top36 features': 0.933610725956296,\n",
       " 'Top35 features': 0.933610725956296,\n",
       " 'Top34 features': 0.933610725956296,\n",
       " 'Top33 features': 0.933709588814204,\n",
       " 'Top32 features': 0.933709588814204,\n",
       " 'Top31 features': 0.933709588814204,\n",
       " 'Top30 features': 0.933709588814204,\n",
       " 'Top29 features': 0.933709588814204,\n",
       " 'Top28 features': 0.933709588814204,\n",
       " 'Top27 features': 0.933709588814204,\n",
       " 'Top26 features': 0.9336600599233661,\n",
       " 'Top25 features': 0.9348942135304259,\n",
       " 'Top24 features': 0.9306493221189276,\n",
       " 'Top23 features': 0.9316860425280973,\n",
       " 'Top22 features': 0.9293666628445495,\n",
       " 'Top21 features': 0.9286755485647546,\n",
       " 'Top20 features': 0.9282804868363597,\n",
       " 'Top19 features': 0.9278363103189031,\n",
       " 'Top18 features': 0.9293664435943917,\n",
       " 'Top17 features': 0.9279344180005282,\n",
       " 'Top16 features': 0.9212212678833914}"
      ]
     },
     "execution_count": 57,
     "metadata": {},
     "output_type": "execute_result"
    }
   ],
   "source": [
    "#keep track of accuracy for rf as features are removed one at a time\n",
    "dic_tracking_accuracy_ab_fs = {'original': ab_accuracies_cv.mean()}\n",
    "\n",
    "#func def to do cv, given a specific algorithm\n",
    "from sklearn.model_selection import cross_val_score\n",
    "for x in range(count_useless_features_dt-5):\n",
    "    #cv\n",
    "    \n",
    "    ab_cv_fselection = AdaBoostClassifier(n_estimators = 29,random_state=2)\n",
    "    ab_accuracies_fs = cross_val_score(ab_cv_fselection, features_matrix[features_ab_fea_sele[0:-(x+1)]], label, cv=10, scoring='accuracy')\n",
    "    #print(rf_accuracies)\n",
    "    \n",
    "    accuracy_average_ab_fs= ab_accuracies_fs.mean()\n",
    "    dic_tracking_accuracy_ab_fs['Top' + str(len(features_ab_fea_sele[0:-(x+1)])) + ' features'] = accuracy_average_ab_fs\n",
    "\n",
    "\n",
    "\n",
    "    \n",
    "dic_tracking_accuracy_ab_fs"
   ]
  },
  {
   "cell_type": "markdown",
   "metadata": {},
   "source": [
    "#### 5.3.4 PCA"
   ]
  },
  {
   "cell_type": "code",
   "execution_count": 54,
   "metadata": {},
   "outputs": [
    {
     "name": "stdout",
     "output_type": "stream",
     "text": [
      "[0.91021214 0.92599901 0.91317218 0.92057227 0.92349457 0.92493827\n",
      " 0.91259259 0.93679012 0.92246914 0.92790123]\n"
     ]
    },
    {
     "data": {
      "text/plain": [
       "0.9273429947821936"
      ]
     },
     "execution_count": 54,
     "metadata": {},
     "output_type": "execute_result"
    }
   ],
   "source": [
    "ab_cv_pca = AdaBoostClassifier(n_estimators = 29,random_state=2)\n",
    "ab_accuracies_cv_pca = cross_val_score(ab_cv, feature_matrix_pca_transformed, label, cv=10, scoring='accuracy')\n",
    "print(ab_accuracies_cv_pca)\n",
    "accuracy_averag_pca = ab_accuracies_cv_pca.mean()\n",
    "accuracy_average_pca\n",
    "\n",
    "\n",
    "\n"
   ]
  },
  {
   "cell_type": "markdown",
   "metadata": {},
   "source": [
    "### 5.4 Support Vector Machine"
   ]
  },
  {
   "cell_type": "markdown",
   "metadata": {},
   "source": [
    "###### 5.4.1 Fast Run"
   ]
  },
  {
   "cell_type": "code",
   "execution_count": 70,
   "metadata": {},
   "outputs": [
    {
     "data": {
      "text/plain": [
       "0.9157617637380717"
      ]
     },
     "execution_count": 70,
     "metadata": {},
     "output_type": "execute_result"
    }
   ],
   "source": [
    "from sklearn.svm import SVC\n",
    "nl_svm_fr = SVC(C=1, kernel='rbf', gamma=0.0005, random_state=1)\n",
    "nl_svm_fr.fit(X_train, y_train)\n",
    "nl_svm_fr_predictions = nl_svm_fr.predict(X_test)\n",
    "nl_svm_fr_accuracy = accuracy_score(y_test, nl_svm_fr_predictions)\n",
    "nl_svm_fr_accuracy"
   ]
  },
  {
   "cell_type": "markdown",
   "metadata": {},
   "source": [
    "###### Fast Run: True Positive Rate (TPR) and False Positive Rate (FPR):"
   ]
  },
  {
   "cell_type": "code",
   "execution_count": 84,
   "metadata": {},
   "outputs": [
    {
     "name": "stdout",
     "output_type": "stream",
     "text": [
      "FPR\n",
      "[0. 0. 0. 0. 0.]\n",
      "TPR\n",
      "[0.    0.    0.01  0.011 0.017]\n"
     ]
    }
   ],
   "source": [
    "nl_svm_fr = SVC(C=1, kernel='rbf', gamma=0.0005, random_state=1, probability=True)\n",
    "nl_svm_fr.fit(X_train, y_train)\n",
    "nl_svm_fr_predictions = nl_svm_fr.predict(X_test)\n",
    "y_predict_prob_svm = nl_svm_fr.predict_proba(X_test)\n",
    "fpr_svm, tpr_svm, thresholds = metrics.roc_curve(y_test, y_predict_prob_ab[:,1], pos_label=1)\n",
    "#FPR\n",
    "print('FPR')\n",
    "print(fpr_svm[0:5])\n",
    "\n",
    "\n",
    "#TPR\n",
    "print('TPR')\n",
    "print(tpr_svm[0:5])"
   ]
  },
  {
   "cell_type": "markdown",
   "metadata": {},
   "source": [
    "###### Fast Run: Confusion Matrix"
   ]
  },
  {
   "cell_type": "code",
   "execution_count": 85,
   "metadata": {},
   "outputs": [
    {
     "name": "stdout",
     "output_type": "stream",
     "text": [
      "[[3124  476]\n",
      " [  36 2442]]\n"
     ]
    }
   ],
   "source": [
    "cm_svm = metrics.confusion_matrix(y_test, nl_svm_fr_predictions )\n",
    "print(cm_svm)"
   ]
  },
  {
   "cell_type": "markdown",
   "metadata": {},
   "source": [
    "##### Fast Run AUC"
   ]
  },
  {
   "cell_type": "code",
   "execution_count": 86,
   "metadata": {},
   "outputs": [
    {
     "data": {
      "text/plain": [
       "0.9847413348578603"
      ]
     },
     "execution_count": 86,
     "metadata": {},
     "output_type": "execute_result"
    }
   ],
   "source": [
    "AUC_svm = metrics.auc(fpr_svm, tpr_svm)\n",
    "AUC_svm"
   ]
  },
  {
   "cell_type": "markdown",
   "metadata": {},
   "source": [
    "##### Fast Run ROC CURVE"
   ]
  },
  {
   "cell_type": "code",
   "execution_count": 87,
   "metadata": {},
   "outputs": [
    {
     "data": {
      "image/png": "[encoded data removed]",
      "text/plain": [
       "<Figure size 432x288 with 1 Axes>"
      ]
     },
     "metadata": {
      "needs_background": "light"
     },
     "output_type": "display_data"
    }
   ],
   "source": [
    "# Importing the \"pyplot\" package of \"matplotlib\" library of python to generate \n",
    "# graphs and plot curves:\n",
    "import matplotlib.pyplot as plt\n",
    "\n",
    "# The following line will tell Jupyter Notebook to keep the figures inside the explorer page \n",
    "# rather than openng a new figure window:\n",
    "%matplotlib inline\n",
    "\n",
    "plt.figure()\n",
    "\n",
    "# Roc Curve:\n",
    "plt.plot(fpr_svm, tpr_svm, color='red', lw=2, \n",
    "         label='ROC Curve (area = %0.2f)' % AUC_svm)\n",
    "\n",
    "# Random Guess line:\n",
    "plt.plot([0, 1], [0, 1], color='blue', lw=1, linestyle='--')\n",
    "\n",
    "# Defining The Range of X-Axis and Y-Axis:\n",
    "plt.xlim([-0.005, 1.005])\n",
    "plt.ylim([0.0, 1.01])\n",
    "\n",
    "# Labels, Title, Legend:\n",
    "plt.xlabel('False Positive Rate')\n",
    "plt.ylabel('True Positive Rate')\n",
    "plt.title('Receiver operating characteristic')\n",
    "plt.legend(loc=\"lower right\")\n",
    "\n",
    "plt.show()"
   ]
  },
  {
   "cell_type": "markdown",
   "metadata": {},
   "source": [
    "#### 5.4.2 Cross Validation"
   ]
  },
  {
   "cell_type": "code",
   "execution_count": 71,
   "metadata": {},
   "outputs": [
    {
     "data": {
      "text/plain": [
       "0.9228998902853356"
      ]
     },
     "execution_count": 71,
     "metadata": {},
     "output_type": "execute_result"
    }
   ],
   "source": [
    "from sklearn.svm import SVC\n",
    "import numpy as np\n",
    "from sklearn.metrics import accuracy_score\n",
    "\n",
    "non_lin_svm = SVC(C=1, kernel='rbf', gamma=0.0005, random_state=1)\n",
    "\n",
    "accuracy_list_svm = cross_val_score(non_lin_svm, features_matrix, label, cv=10, scoring='accuracy')\n",
    "accuracy_svm = accuracy_list_svm.mean()\n",
    "accuracy_svm"
   ]
  },
  {
   "cell_type": "markdown",
   "metadata": {},
   "source": [
    "#### 5.4.3 Feature Selection"
   ]
  },
  {
   "cell_type": "code",
   "execution_count": 72,
   "metadata": {},
   "outputs": [
    {
     "data": {
      "text/html": [
       "<div>\n",
       "<style scoped>\n",
       "    .dataframe tbody tr th:only-of-type {\n",
       "        vertical-align: middle;\n",
       "    }\n",
       "\n",
       "    .dataframe tbody tr th {\n",
       "        vertical-align: top;\n",
       "    }\n",
       "\n",
       "    .dataframe thead th {\n",
       "        text-align: right;\n",
       "    }\n",
       "</style>\n",
       "<table border=\"1\" class=\"dataframe\">\n",
       "  <thead>\n",
       "    <tr style=\"text-align: right;\">\n",
       "      <th></th>\n",
       "      <th>importance</th>\n",
       "    </tr>\n",
       "  </thead>\n",
       "  <tbody>\n",
       "    <tr>\n",
       "      <th>Wearing_Lipstick</th>\n",
       "      <td>6565.280098</td>\n",
       "    </tr>\n",
       "    <tr>\n",
       "      <th>Heavy_Makeup</th>\n",
       "      <td>5454.458666</td>\n",
       "    </tr>\n",
       "    <tr>\n",
       "      <th>5_o_Clock_Shadow</th>\n",
       "      <td>3097.614115</td>\n",
       "    </tr>\n",
       "    <tr>\n",
       "      <th>Arched_Eyebrows</th>\n",
       "      <td>2467.954200</td>\n",
       "    </tr>\n",
       "    <tr>\n",
       "      <th>Wearing_Earrings</th>\n",
       "      <td>2361.559008</td>\n",
       "    </tr>\n",
       "    <tr>\n",
       "      <th>Big_Nose</th>\n",
       "      <td>2206.505903</td>\n",
       "    </tr>\n",
       "    <tr>\n",
       "      <th>Wearing_Necktie</th>\n",
       "      <td>2123.182757</td>\n",
       "    </tr>\n",
       "    <tr>\n",
       "      <th>Goatee</th>\n",
       "      <td>1725.487647</td>\n",
       "    </tr>\n",
       "    <tr>\n",
       "      <th>Sideburns</th>\n",
       "      <td>1639.301952</td>\n",
       "    </tr>\n",
       "    <tr>\n",
       "      <th>Blond_Hair</th>\n",
       "      <td>1542.120250</td>\n",
       "    </tr>\n",
       "    <tr>\n",
       "      <th>Bags_Under_Eyes</th>\n",
       "      <td>1502.064947</td>\n",
       "    </tr>\n",
       "    <tr>\n",
       "      <th>Attractive</th>\n",
       "      <td>1501.394895</td>\n",
       "    </tr>\n",
       "    <tr>\n",
       "      <th>Wavy_Hair</th>\n",
       "      <td>1456.797066</td>\n",
       "    </tr>\n",
       "    <tr>\n",
       "      <th>Wearing_Necklace</th>\n",
       "      <td>1258.028139</td>\n",
       "    </tr>\n",
       "    <tr>\n",
       "      <th>Mustache</th>\n",
       "      <td>1175.008058</td>\n",
       "    </tr>\n",
       "    <tr>\n",
       "      <th>Chubby</th>\n",
       "      <td>1148.953160</td>\n",
       "    </tr>\n",
       "    <tr>\n",
       "      <th>Bushy_Eyebrows</th>\n",
       "      <td>1097.363280</td>\n",
       "    </tr>\n",
       "    <tr>\n",
       "      <th>Double_Chin</th>\n",
       "      <td>960.181024</td>\n",
       "    </tr>\n",
       "    <tr>\n",
       "      <th>No_Beard</th>\n",
       "      <td>862.482540</td>\n",
       "    </tr>\n",
       "    <tr>\n",
       "      <th>Rosy_Cheeks</th>\n",
       "      <td>850.910007</td>\n",
       "    </tr>\n",
       "    <tr>\n",
       "      <th>Pointy_Nose</th>\n",
       "      <td>746.876073</td>\n",
       "    </tr>\n",
       "    <tr>\n",
       "      <th>Eyeglasses</th>\n",
       "      <td>746.423046</td>\n",
       "    </tr>\n",
       "    <tr>\n",
       "      <th>High_Cheekbones</th>\n",
       "      <td>690.415773</td>\n",
       "    </tr>\n",
       "    <tr>\n",
       "      <th>Gray_Hair</th>\n",
       "      <td>674.425296</td>\n",
       "    </tr>\n",
       "    <tr>\n",
       "      <th>Bald</th>\n",
       "      <td>603.652904</td>\n",
       "    </tr>\n",
       "    <tr>\n",
       "      <th>Big_Lips</th>\n",
       "      <td>533.755813</td>\n",
       "    </tr>\n",
       "    <tr>\n",
       "      <th>Bangs</th>\n",
       "      <td>410.723250</td>\n",
       "    </tr>\n",
       "    <tr>\n",
       "      <th>Young</th>\n",
       "      <td>385.509614</td>\n",
       "    </tr>\n",
       "    <tr>\n",
       "      <th>Wearing_Hat</th>\n",
       "      <td>344.649917</td>\n",
       "    </tr>\n",
       "    <tr>\n",
       "      <th>Oval_Face</th>\n",
       "      <td>254.005750</td>\n",
       "    </tr>\n",
       "    <tr>\n",
       "      <th>Receding_Hairline</th>\n",
       "      <td>217.748006</td>\n",
       "    </tr>\n",
       "    <tr>\n",
       "      <th>Brown_Hair</th>\n",
       "      <td>216.363720</td>\n",
       "    </tr>\n",
       "    <tr>\n",
       "      <th>Smiling</th>\n",
       "      <td>211.147959</td>\n",
       "    </tr>\n",
       "    <tr>\n",
       "      <th>Black_Hair</th>\n",
       "      <td>204.759462</td>\n",
       "    </tr>\n",
       "    <tr>\n",
       "      <th>Pale_Skin</th>\n",
       "      <td>115.394600</td>\n",
       "    </tr>\n",
       "    <tr>\n",
       "      <th>Mouth_Slightly_Open</th>\n",
       "      <td>105.666208</td>\n",
       "    </tr>\n",
       "    <tr>\n",
       "      <th>Straight_Hair</th>\n",
       "      <td>103.923803</td>\n",
       "    </tr>\n",
       "    <tr>\n",
       "      <th>Blurry</th>\n",
       "      <td>17.901143</td>\n",
       "    </tr>\n",
       "    <tr>\n",
       "      <th>Narrow_Eyes</th>\n",
       "      <td>0.684000</td>\n",
       "    </tr>\n",
       "  </tbody>\n",
       "</table>\n",
       "</div>"
      ],
      "text/plain": [
       "                      importance\n",
       "Wearing_Lipstick     6565.280098\n",
       "Heavy_Makeup         5454.458666\n",
       "5_o_Clock_Shadow     3097.614115\n",
       "Arched_Eyebrows      2467.954200\n",
       "Wearing_Earrings     2361.559008\n",
       "Big_Nose             2206.505903\n",
       "Wearing_Necktie      2123.182757\n",
       "Goatee               1725.487647\n",
       "Sideburns            1639.301952\n",
       "Blond_Hair           1542.120250\n",
       "Bags_Under_Eyes      1502.064947\n",
       "Attractive           1501.394895\n",
       "Wavy_Hair            1456.797066\n",
       "Wearing_Necklace     1258.028139\n",
       "Mustache             1175.008058\n",
       "Chubby               1148.953160\n",
       "Bushy_Eyebrows       1097.363280\n",
       "Double_Chin           960.181024\n",
       "No_Beard              862.482540\n",
       "Rosy_Cheeks           850.910007\n",
       "Pointy_Nose           746.876073\n",
       "Eyeglasses            746.423046\n",
       "High_Cheekbones       690.415773\n",
       "Gray_Hair             674.425296\n",
       "Bald                  603.652904\n",
       "Big_Lips              533.755813\n",
       "Bangs                 410.723250\n",
       "Young                 385.509614\n",
       "Wearing_Hat           344.649917\n",
       "Oval_Face             254.005750\n",
       "Receding_Hairline     217.748006\n",
       "Brown_Hair            216.363720\n",
       "Smiling               211.147959\n",
       "Black_Hair            204.759462\n",
       "Pale_Skin             115.394600\n",
       "Mouth_Slightly_Open   105.666208\n",
       "Straight_Hair         103.923803\n",
       "Blurry                 17.901143\n",
       "Narrow_Eyes             0.684000"
      ]
     },
     "execution_count": 72,
     "metadata": {},
     "output_type": "execute_result"
    }
   ],
   "source": [
    "#must change -1 to 0, due to expected parameters of tchi squared technique\n",
    "\n",
    "feature_matrix_feature_selection_only = features_matrix.where(features_matrix > 0, 0)\n",
    "#feature_matrix_feature_selection_only.head()\n",
    "\n",
    "test = SelectKBest(score_func=chi2, k=4)\n",
    "fit = test.fit(feature_matrix_feature_selection_only, label)\n",
    "# summarize scores\n",
    "np.set_printoptions(precision=3)\n",
    "#print(fit.scores_)\n",
    "features_2 = fit.transform(feature_matrix_feature_selection_only)\n",
    "# summarize selected features\n",
    "#print(features_2[0:5,:])\n",
    "\n",
    "\n",
    "features_2 = features_2[0:5,:]\n",
    "\n",
    "\n",
    "feature_importances_svm = pd.DataFrame(fit.scores_,\n",
    "                                   index = X_train.columns,\n",
    "                                    columns=['importance']).sort_values('importance',ascending=False)\n",
    "feature_importances_svm"
   ]
  },
  {
   "cell_type": "code",
   "execution_count": 73,
   "metadata": {},
   "outputs": [],
   "source": [
    "features_svm2 = feature_importances_svm.index.tolist()\n",
    "features_svm = ['Wearing_Lipstick', 'Heavy_Makeup', '5_o_Clock_Shadow',\n",
    "       'Arched_Eyebrows', 'Wearing_Earrings', 'Big_Nose', 'Wearing_Necktie',\n",
    "       'Goatee', 'Sideburns', 'Blond_Hair', 'Bags_Under_Eyes', 'Attractive',\n",
    "       'Wavy_Hair', 'Wearing_Necklace', 'Mustache', 'Chubby', 'Bushy_Eyebrows',\n",
    "       'Double_Chin', 'No_Beard', 'Rosy_Cheeks', 'Pointy_Nose', 'Eyeglasses',\n",
    "       'High_Cheekbones', 'Gray_Hair', 'Bald', 'Big_Lips', 'Bangs', 'Young',\n",
    "       'Wearing_Hat', 'Oval_Face', 'Receding_Hairline', 'Brown_Hair',\n",
    "       'Smiling', 'Black_Hair', 'Pale_Skin', 'Mouth_Slightly_Open',\n",
    "       'Straight_Hair', 'Blurry', 'Narrow_Eyes']"
   ]
  },
  {
   "cell_type": "markdown",
   "metadata": {},
   "source": [
    "###### pick 17 useless feaures to get rid of"
   ]
  },
  {
   "cell_type": "code",
   "execution_count": 74,
   "metadata": {},
   "outputs": [],
   "source": [
    "#pick 17 useless feaures to get rid of\n",
    "count_useless_features_svm = 17 #keep track of all features not helping model, in this case we chose 17 lowest and will brute force check results of removing it one at a time\n",
    "dic_tracking_accuracy_svm_fs = {}\n",
    "dic_tracking_accuracy_svm_fs['Original'] = accuracy_list_svm.mean()"
   ]
  },
  {
   "cell_type": "code",
   "execution_count": 75,
   "metadata": {},
   "outputs": [
    {
     "data": {
      "text/plain": [
       "{'Original': 0.9228998902853356,\n",
       " 'Top38 features': 0.9228011492277265,\n",
       " 'Top37 features': 0.9213202037685692,\n",
       " 'Top36 features': 0.9212709915536982,\n",
       " 'Top35 features': 0.9212216332121385,\n",
       " 'Top34 features': 0.92122151138779,\n",
       " 'Top33 features': 0.9200373007252445,\n",
       " 'Top32 features': 0.9201853270730938,\n",
       " 'Top31 features': 0.9196423121203183,\n",
       " 'Top30 features': 0.9196422390208993,\n",
       " 'Top29 features': 0.9189017662552457,\n",
       " 'Top28 features': 0.9187043572394467,\n",
       " 'Top27 features': 0.918111813323684,\n",
       " 'Top26 features': 0.9179143311844159,\n",
       " 'Top25 features': 0.9158414022544094,\n",
       " 'Top24 features': 0.9158414022544095,\n",
       " 'Top23 features': 0.9156933515561203,\n",
       " 'Top22 features': 0.9159401920850476}"
      ]
     },
     "execution_count": 75,
     "metadata": {},
     "output_type": "execute_result"
    }
   ],
   "source": [
    "#get rid of feature one at a time and check acuracy that results\n",
    "from sklearn.model_selection import cross_val_score\n",
    "for x in range(count_useless_features_svm ):\n",
    "    #cv\n",
    "    svm_cv_fselection = SVC(C=1, kernel='rbf', gamma=0.0005, random_state=1)\n",
    "    svm_accuracies_fs = cross_val_score(svm_cv_fselection, features_matrix[features_svm[0:-(x+1)]], label, cv=10, scoring='accuracy')\n",
    "    #print(svm_accuracies_fs)\n",
    "    \n",
    "    accuracy_average_svm_fs= svm_accuracies_fs.mean()\n",
    "    dic_tracking_accuracy_svm_fs['Top' + str(len(features_svm[0:-(x+1)])) + ' features'] = accuracy_average_svm_fs\n",
    "\n",
    "dic_tracking_accuracy_svm_fs"
   ]
  },
  {
   "cell_type": "code",
   "execution_count": null,
   "metadata": {},
   "outputs": [],
   "source": [
    "Feature Selection did not improve the results"
   ]
  },
  {
   "cell_type": "markdown",
   "metadata": {},
   "source": [
    "#### 5.4.4 PCA"
   ]
  },
  {
   "cell_type": "code",
   "execution_count": 76,
   "metadata": {},
   "outputs": [
    {
     "data": {
      "text/plain": [
       "0.92255418692255"
      ]
     },
     "execution_count": 76,
     "metadata": {},
     "output_type": "execute_result"
    }
   ],
   "source": [
    "non_lin_svm_pca = SVC(C=1, kernel='rbf', gamma=0.0005, random_state=1)\n",
    "\n",
    "accuracy_list_svm_pca = cross_val_score(non_lin_svm_pca, feature_matrix_pca_transformed, label, cv=10, scoring='accuracy')\n",
    "accuracy_svm_pca = accuracy_list_svm_pca.mean()\n",
    "accuracy_svm_pca"
   ]
  },
  {
   "cell_type": "markdown",
   "metadata": {},
   "source": [
    "### 5.5 KNN"
   ]
  },
  {
   "cell_type": "markdown",
   "metadata": {},
   "source": [
    "### 5.6 Logistic Regression"
   ]
  },
  {
   "cell_type": "markdown",
   "metadata": {},
   "source": [
    "### 5.7 XGBoost"
   ]
  },
  {
   "cell_type": "markdown",
   "metadata": {},
   "source": [
    "### 5.8 Artificial Neural Networks"
   ]
  },
  {
   "cell_type": "markdown",
   "metadata": {},
   "source": [
    "## 6 Conclusion"
   ]
  },
  {
   "cell_type": "markdown",
   "metadata": {},
   "source": [
    "### 6.1 Accuracy "
   ]
  },
  {
   "cell_type": "markdown",
   "metadata": {},
   "source": [
    "The accuracy for our all our models stayed in the range of 91% to 93%. Interestingly enough, this remained true for several algorithms even when we reduced our feature set by over 50%. Still this did not improve our results. It is possible that this suggests that we can work with a smaller feature set and get comparable results. However, at the same time the complexity of our model doesn't seem to have been a real problem in our dataset. This was proven true once again with Regularization as reducing the dimensions did not really improve our results. \n",
    "\n",
    "The best accuracies for each Model were 93% for Random Forest, 92% for Decision Tree, and 92% for Support Vector MachineRandom Forest: 93% and 93% Ada Boost."
   ]
  },
  {
   "cell_type": "markdown",
   "metadata": {},
   "source": [
    "### 6.2 Biases"
   ]
  },
  {
   "cell_type": "markdown",
   "metadata": {},
   "source": [
    "Due to computing resources, we only used a sample of the entire dataset. This could mean many things as far as introducing bias and limiations into our models. Although, we chose all our entries at random from the original dataset it could be that we got samples that were easier to predict. It is also possible that we missed out on some of the labels entirely or got to little for testing purposes. This could explain why we would not improve our results. Also, a validation set was not used, meaning there might be some bias in our cross validation results. "
   ]
  },
  {
   "cell_type": "markdown",
   "metadata": {},
   "source": [
    "### 6.3 Thoughts and Suggestions for future research"
   ]
  },
  {
   "cell_type": "markdown",
   "metadata": {},
   "source": [
    "Looking on to the future to improve our research we would advise others to use the raw pixels for features. Also, in regards to feature selection, we would suggest finding redudancy in the features through entropy as a better way to determine which features should be cut. Lastly, We suggest using a validation set inorder to reduce bias in cross validation results. "
   ]
  },
  {
   "cell_type": "markdown",
   "metadata": {},
   "source": [
    "## 7 Responsibilities"
   ]
  },
  {
   "cell_type": "markdown",
   "metadata": {},
   "source": [
    "### 7.1 Shared"
   ]
  },
  {
   "cell_type": "markdown",
   "metadata": {},
   "source": [
    "Each member is responsible for training, testing, analyzing, and improving his/her designated set of machine learning algorithms. Nevertheless, collaboration takes place as needed, so there exists some overlap in involvement."
   ]
  },
  {
   "cell_type": "markdown",
   "metadata": {},
   "source": [
    "### 7.2 Emmanuel"
   ]
  },
  {
   "cell_type": "markdown",
   "metadata": {},
   "source": [
    "In charge of organization. Reserves rooms for meetings, develops a plan of action, summarizes progress after every meeting. In charge of the following algorithms: Ada Boost, Decision Tree, Random Forest, SVM. He Contributed to both the project report and presentation slides.\n",
    "Methods: Boosting, Feature Selection, Dimensional Reduction PCA, Cross Validation. Conducts research on behalf of the group."
   ]
  },
  {
   "cell_type": "markdown",
   "metadata": {},
   "source": [
    "### 7.3 Erika"
   ]
  },
  {
   "cell_type": "markdown",
   "metadata": {},
   "source": [
    "Conducts research on behalf of the group. Helps analyze results and choose follow up approach/method. In charge of the following algorithms: Logistic Regression, KNN, XGBoost, and ANN. Methods: Boosting, Feature Selection, Dimensional Reduction PCA, Cross Validation. She Contributed to both the project report and presentation slides."
   ]
  }
 ],
 "metadata": {
  "kernelspec": {
   "display_name": "Python 3",
   "language": "python",
   "name": "python3"
  },
  "language_info": {
   "codemirror_mode": {
    "name": "ipython",
    "version": 3
   },
   "file_extension": ".py",
   "mimetype": "text/x-python",
   "name": "python",
   "nbconvert_exporter": "python",
   "pygments_lexer": "ipython3",
   "version": "3.6.8"
  }
 },
 "nbformat": 4,
 "nbformat_minor": 2
}
